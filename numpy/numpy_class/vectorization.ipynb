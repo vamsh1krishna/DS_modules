{
 "cells": [
  {
   "cell_type": "markdown",
   "metadata": {},
   "source": [
    "Timing Vectorized Operations in Numpy\n",
    "-------------------------------------"
   ]
  },
  {
   "cell_type": "code",
   "execution_count": 1,
   "metadata": {},
   "outputs": [],
   "source": [
    "import numpy as np\n",
    "from timeit import Timer\n",
    "pure_py_list = list(range(10**6))\n",
    "num_py_array = np.array(pure_py_list)"
   ]
  },
  {
   "cell_type": "markdown",
   "metadata": {},
   "source": [
    "Lets write the function to add sum number to each element of the list\n",
    "---------------------------------------------------------------------"
   ]
  },
  {
   "cell_type": "code",
   "execution_count": 2,
   "metadata": {},
   "outputs": [],
   "source": [
    "def for_add(number=1):\n",
    "    return [item+number for item in pure_py_list]\n",
    "\n",
    "def vec_add(number=1):\n",
    "    return num_py_array + number"
   ]
  },
  {
   "cell_type": "markdown",
   "metadata": {},
   "source": [
    "#### lets execute eah function with pure python list and vector addition of numpy\n",
    "* Lets run each function 100 times and find minimum time"
   ]
  },
  {
   "cell_type": "code",
   "execution_count": 3,
   "metadata": {},
   "outputs": [
    {
     "name": "stdout",
     "output_type": "stream",
     "text": [
      "Pure python list experiment\n",
      "1.8424869000000115\n"
     ]
    }
   ],
   "source": [
    "print(\"Pure python list experiment\")\n",
    "print(min(Timer(for_add).repeat(10,10)))"
   ]
  },
  {
   "cell_type": "code",
   "execution_count": 4,
   "metadata": {},
   "outputs": [
    {
     "name": "stdout",
     "output_type": "stream",
     "text": [
      "numpy array experiment\n",
      "0.04097489999998061\n"
     ]
    }
   ],
   "source": [
    "print(\"numpy array experiment\")\n",
    "print(min(Timer(vec_add).repeat(10,10)))"
   ]
  },
  {
   "cell_type": "code",
   "execution_count": 5,
   "metadata": {},
   "outputs": [
    {
     "name": "stdout",
     "output_type": "stream",
     "text": [
      "Pure python list experiment\n",
      "1.9471803999999793\n",
      "numpy array experiment\n",
      "0.02366380000000845\n"
     ]
    }
   ],
   "source": [
    "def for_mul(number=1):\n",
    "    return [item*number for item in pure_py_list]\n",
    "\n",
    "def vec_mul(number=1):\n",
    "    return num_py_array*number\n",
    "\n",
    "print(\"Pure python list experiment\")\n",
    "print(min(Timer(for_mul).repeat(10,10)))\n",
    "\n",
    "print(\"numpy array experiment\")\n",
    "print(min(Timer(vec_mul).repeat(10,10)))"
   ]
  },
  {
   "cell_type": "code",
   "execution_count": 6,
   "metadata": {},
   "outputs": [
    {
     "name": "stdout",
     "output_type": "stream",
     "text": [
      "Pure python list experiment\n",
      "3.0148638000000005\n",
      "numpy array experiment\n",
      "0.05074960000001738\n"
     ]
    }
   ],
   "source": [
    "def for_div(number=1):\n",
    "    return [item/number for item in pure_py_list]\n",
    "\n",
    "def vec_div(number=1):\n",
    "    return num_py_array/number\n",
    "\n",
    "print(\"Pure python list experiment\")\n",
    "print(min(Timer(for_div).repeat(10,10)))\n",
    "\n",
    "print(\"numpy array experiment\")\n",
    "print(min(Timer(vec_div).repeat(10,10)))"
   ]
  },
  {
   "cell_type": "code",
   "execution_count": 7,
   "metadata": {},
   "outputs": [
    {
     "name": "stdout",
     "output_type": "stream",
     "text": [
      "Pure python list experiment\n",
      "2.504852299999982\n",
      "numpy array experiment\n",
      "0.10812700000002451\n"
     ]
    }
   ],
   "source": [
    "def for_mod(number=1):\n",
    "    return [item//number for item in pure_py_list]\n",
    "\n",
    "def vec_mod(number=1):\n",
    "    return num_py_array//number\n",
    "\n",
    "print(\"Pure python list experiment\")\n",
    "print(min(Timer(for_mod).repeat(10,10)))\n",
    "\n",
    "print(\"numpy array experiment\")\n",
    "print(min(Timer(vec_mod).repeat(10,10)))"
   ]
  },
  {
   "cell_type": "code",
   "execution_count": null,
   "metadata": {},
   "outputs": [],
   "source": []
  }
 ],
 "metadata": {
  "interpreter": {
   "hash": "5f4e3b22efeece7a53e8731080df76789e0d222fcf0863e0edc1ac6607c28f52"
  },
  "kernelspec": {
   "display_name": "Python 3 (ipykernel)",
   "language": "python",
   "name": "python3"
  },
  "language_info": {
   "codemirror_mode": {
    "name": "ipython",
    "version": 3
   },
   "file_extension": ".py",
   "mimetype": "text/x-python",
   "name": "python",
   "nbconvert_exporter": "python",
   "pygments_lexer": "ipython3",
   "version": "3.8.8"
  }
 },
 "nbformat": 4,
 "nbformat_minor": 2
}
