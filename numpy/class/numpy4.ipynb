{
 "cells": [
  {
   "cell_type": "markdown",
   "metadata": {},
   "source": [
    "Universal functions (Ufuncs)\n",
    "---------------------------\n",
    "* ufuncs are numpy functions that operates on ndarray object\n",
    "* They are used to implement vectorization in Numpy Which is faster than iterating over elements\n",
    "* ufuncs take additional args\n",
    "    * where\n",
    "    * dtype\n",
    "    * out"
   ]
  },
  {
   "cell_type": "code",
   "execution_count": 3,
   "metadata": {},
   "outputs": [],
   "source": [
    "import numpy as np"
   ]
  },
  {
   "cell_type": "code",
   "execution_count": 4,
   "metadata": {},
   "outputs": [
    {
     "name": "stdout",
     "output_type": "stream",
     "text": [
      "[3, 7, 11, 15]\n",
      "[ 3  7 11 15]\n"
     ]
    }
   ],
   "source": [
    "#Traditional python approach\n",
    "x = [1,3,5,7]\n",
    "y = [2,4,6,8]\n",
    "z = []\n",
    "\n",
    "for i,j in zip(x,y):\n",
    "    z.append(i+j)\n",
    "print(z)\n",
    "\n",
    "#ufunc approach\n",
    "z = np.add(x,y)\n",
    "print(z)"
   ]
  },
  {
   "cell_type": "markdown",
   "metadata": {},
   "source": [
    "Creating oun functions\n",
    "----------------------\n",
    "* To create own functions, we need to define a function just like normal functions in python and add it to the Numpy ufnc library from the `frompyfun()` method.\n",
    "* This `frompyfunc()` method takes the following arguments\n",
    "    * function -  name of the function\n",
    "    * the number of input arguments (arrays)\n",
    "    * The number of Output arguments"
   ]
  },
  {
   "cell_type": "code",
   "execution_count": 6,
   "metadata": {},
   "outputs": [
    {
     "name": "stdout",
     "output_type": "stream",
     "text": [
      "Result of add = [7 9 11 13 15]\n",
      "Result of sub = [-5 -5 -5 -5 -5]\n"
     ]
    }
   ],
   "source": [
    "def my_add(x,y):\n",
    "    return x+y\n",
    "\n",
    "def my_sub(x,y):\n",
    "    return x-y\n",
    "\n",
    "my_add = np.frompyfunc(my_add,2,1)\n",
    "my_sub = np.frompyfunc(my_sub,2,1)\n",
    "\n",
    "print(f\"Result of add = {my_add([1,2,3,4,5],[6,7,8,9,10])}\")\n",
    "print(f\"Result of sub = {my_sub([1,2,3,4,5],[6,7,8,9,10])}\")"
   ]
  },
  {
   "cell_type": "code",
   "execution_count": 7,
   "metadata": {},
   "outputs": [
    {
     "name": "stdout",
     "output_type": "stream",
     "text": [
      "<class 'numpy.ufunc'>\n",
      "<class 'numpy.ufunc'>\n"
     ]
    }
   ],
   "source": [
    "print(type(my_add))\n",
    "print(type(my_sub))"
   ]
  },
  {
   "cell_type": "markdown",
   "metadata": {},
   "source": [
    "Arithmatic Ufuncs\n",
    "-----------------"
   ]
  },
  {
   "cell_type": "code",
   "execution_count": 10,
   "metadata": {},
   "outputs": [
    {
     "name": "stdout",
     "output_type": "stream",
     "text": [
      "[12 24 36]\n",
      "[ 8 16 24]\n",
      "[ 20  80 180]\n",
      "[5. 5. 5.]\n",
      "[      100    160000 729000000]\n",
      "[0 0 0]\n"
     ]
    }
   ],
   "source": [
    "arr1 = np.array([10,20,30])\n",
    "arr2 = np.array([2,4,6])\n",
    "\n",
    "print(np.add(arr1,arr2))\n",
    "print(np.subtract(arr1,arr2))\n",
    "print(np.multiply(arr1,arr2))\n",
    "print(np.divide(arr1,arr2))\n",
    "print(np.power(arr1,arr2))\n",
    "print(np.mod(arr1,arr2))"
   ]
  },
  {
   "cell_type": "markdown",
   "metadata": {},
   "source": [
    "Decimal rounding Ufuncs:\n",
    "------------------------\n",
    "* Truncation\n",
    "* fix\n",
    "* floor\n",
    "* rounding\n",
    "* floor\n",
    "* cell"
   ]
  },
  {
   "cell_type": "code",
   "execution_count": 13,
   "metadata": {},
   "outputs": [
    {
     "name": "stdout",
     "output_type": "stream",
     "text": [
      "[-33.  33.]\n",
      "[-33.  33.]\n",
      "[-34.  33.]\n",
      "[-33.  34.]\n",
      "33.33\n"
     ]
    }
   ],
   "source": [
    "print(np.trunc([-33.33333333333333333,33.3333333333333333]))\n",
    "print(np.fix([-33.33333333333333333,33.3333333333333333]))\n",
    "print(np.floor([-33.33333333333333333,33.3333333333333333]))\n",
    "print(np.ceil([-33.33333333333333333,33.3333333333333333]))\n",
    "print(np.round(33.33333333333333333,2))\n"
   ]
  },
  {
   "cell_type": "markdown",
   "metadata": {},
   "source": [
    "Logarithms\n",
    "----------"
   ]
  },
  {
   "cell_type": "code",
   "execution_count": 16,
   "metadata": {},
   "outputs": [
    {
     "name": "stdout",
     "output_type": "stream",
     "text": [
      "[0.         1.         1.5849625  2.         2.32192809 2.5849625\n",
      " 2.80735492 3.         3.169925  ]\n",
      "[0.         0.30103    0.47712125 0.60205999 0.69897    0.77815125\n",
      " 0.84509804 0.90308999 0.95424251]\n",
      "[0.         0.69314718 1.09861229 1.38629436 1.60943791 1.79175947\n",
      " 1.94591015 2.07944154 2.19722458]\n",
      "1.7005483074552052\n"
     ]
    }
   ],
   "source": [
    "#Log at base2\n",
    "arr = np.arange(1,10)\n",
    "print(np.log2(arr))\n",
    "\n",
    "#Log at base10\n",
    "print(np.log10(arr))\n",
    "\n",
    "#Log at base e\n",
    "print(np.log(arr))\n",
    "\n",
    "\n",
    "from math import log\n",
    "nplog = np.frompyfunc(log,2,1)\n",
    "print(nplog(100,15))"
   ]
  },
  {
   "cell_type": "markdown",
   "metadata": {},
   "source": [
    "LCM and HCF/GCD\n",
    "---------------"
   ]
  },
  {
   "cell_type": "code",
   "execution_count": 26,
   "metadata": {},
   "outputs": [
    {
     "name": "stdout",
     "output_type": "stream",
     "text": [
      "12\n",
      "18\n",
      "232792560\n"
     ]
    }
   ],
   "source": [
    "print(np.lcm(4,6))\n",
    "arr = np.array([3,6,9])\n",
    "print(np.lcm.reduce(arr))\n",
    "arr = np.arange(2,20)\n",
    "print(np.lcm.reduce(arr))"
   ]
  },
  {
   "cell_type": "code",
   "execution_count": 27,
   "metadata": {},
   "outputs": [
    {
     "name": "stdout",
     "output_type": "stream",
     "text": [
      "6\n",
      "3\n",
      "1\n"
     ]
    }
   ],
   "source": [
    "print(np.gcd(6,12))\n",
    "arr = np.array([3,6,9])\n",
    "print(np.gcd.reduce(arr))\n",
    "arr = np.arange(2,20)\n",
    "print(np.gcd.reduce(arr))\n"
   ]
  },
  {
   "cell_type": "markdown",
   "metadata": {},
   "source": [
    "Trignometric functions\n",
    "----------------------"
   ]
  },
  {
   "cell_type": "code",
   "execution_count": 29,
   "metadata": {},
   "outputs": [
    {
     "name": "stdout",
     "output_type": "stream",
     "text": [
      "1.0\n",
      "[0.         0.52359878 0.78539816 1.04719755 1.57079633 2.0943951\n",
      " 3.14159265 4.71238898 6.28318531]\n"
     ]
    }
   ],
   "source": [
    "print(np.sin(np.pi/2))\n",
    "\n",
    "arr = np.array([0,30,45,60,90,120,180,270,360])\n",
    "\n",
    "#convert degree into radians\n",
    "radians = np.deg2rad(arr)\n",
    "print(radians)"
   ]
  },
  {
   "cell_type": "markdown",
   "metadata": {},
   "source": [
    "Set Operations\n",
    "--------------"
   ]
  },
  {
   "cell_type": "code",
   "execution_count": 31,
   "metadata": {},
   "outputs": [
    {
     "name": "stdout",
     "output_type": "stream",
     "text": [
      "[1 2 3 4 5 6 7 8]\n",
      "[10 20 30 40 50 60 70 80]\n",
      "[40 50]\n",
      "[10 20 30]\n",
      "[10 20 30 60 70 80]\n"
     ]
    }
   ],
   "source": [
    "arr = np.arange(1,9)\n",
    "unique_arr = np.unique(arr)\n",
    "print(unique_arr)\n",
    "\n",
    "arr1 = np.array([10,20,30,40,50])\n",
    "arr2 = np.array([40,50,60,70,80])\n",
    "\n",
    "print(np.union1d(arr1,arr2))\n",
    "print(np.intersect1d(arr1,arr2))\n",
    "print(np.setdiff1d(arr1,arr2))\n",
    "print(np.setxor1d(arr1,arr2))"
   ]
  },
  {
   "cell_type": "code",
   "execution_count": null,
   "metadata": {},
   "outputs": [],
   "source": []
  }
 ],
 "metadata": {
  "interpreter": {
   "hash": "5f4e3b22efeece7a53e8731080df76789e0d222fcf0863e0edc1ac6607c28f52"
  },
  "kernelspec": {
   "display_name": "Python 3.8.8 ('base')",
   "language": "python",
   "name": "python3"
  },
  "language_info": {
   "codemirror_mode": {
    "name": "ipython",
    "version": 3
   },
   "file_extension": ".py",
   "mimetype": "text/x-python",
   "name": "python",
   "nbconvert_exporter": "python",
   "pygments_lexer": "ipython3",
   "version": "3.8.8"
  },
  "orig_nbformat": 4
 },
 "nbformat": 4,
 "nbformat_minor": 2
}
