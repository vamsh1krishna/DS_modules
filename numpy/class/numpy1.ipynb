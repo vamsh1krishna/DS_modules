{
 "cells": [
  {
   "cell_type": "markdown",
   "metadata": {},
   "source": [
    "Numpy\n",
    "-----"
   ]
  },
  {
   "cell_type": "code",
   "execution_count": 1,
   "metadata": {},
   "outputs": [],
   "source": [
    "import numpy as np"
   ]
  },
  {
   "cell_type": "code",
   "execution_count": 3,
   "metadata": {},
   "outputs": [
    {
     "name": "stdout",
     "output_type": "stream",
     "text": [
      "[1, 'a', True]\n",
      "<class 'list'>\n"
     ]
    }
   ],
   "source": [
    "my_list = [1,'a',True]\n",
    "print(my_list)\n",
    "print(type(my_list))"
   ]
  },
  {
   "cell_type": "markdown",
   "metadata": {},
   "source": [
    "* The array object in numpy is calledd ndarray\n",
    "* In Numpy array all the objects items are of sametype, so no need to store meta data,so it is faster than lists"
   ]
  },
  {
   "cell_type": "code",
   "execution_count": 4,
   "metadata": {},
   "outputs": [
    {
     "name": "stdout",
     "output_type": "stream",
     "text": [
      "[1 2 3]\n",
      "<class 'numpy.ndarray'>\n"
     ]
    }
   ],
   "source": [
    "array_1 = np.array([1,2,3])\n",
    "print(array_1)\n",
    "print(type(array_1))"
   ]
  },
  {
   "cell_type": "markdown",
   "metadata": {},
   "source": [
    "* The type of array is numpy.ndarray which refers to ndimensional array\n",
    "* ndarray can be created from lists or tuples"
   ]
  },
  {
   "cell_type": "code",
   "execution_count": 5,
   "metadata": {},
   "outputs": [
    {
     "name": "stdout",
     "output_type": "stream",
     "text": [
      "[1 2 3]\n",
      "<class 'numpy.ndarray'>\n"
     ]
    }
   ],
   "source": [
    "array_2 = np.array((1,2,3))\n",
    "print(array_2)\n",
    "print(type(array_2))"
   ]
  },
  {
   "cell_type": "code",
   "execution_count": 13,
   "metadata": {},
   "outputs": [],
   "source": [
    "def print_array_n_dimension(array):\n",
    "    print(array)\n",
    "    print(f\"type {type(array)}\")\n",
    "    print(f\"Dimension is {array.ndim}\")"
   ]
  },
  {
   "cell_type": "code",
   "execution_count": 16,
   "metadata": {},
   "outputs": [
    {
     "name": "stdout",
     "output_type": "stream",
     "text": [
      "12\n",
      "type <class 'numpy.ndarray'>\n",
      "Dimension is 0\n",
      "[1 2 3]\n",
      "type <class 'numpy.ndarray'>\n",
      "Dimension is 1\n",
      "[[1 2 3]\n",
      " [4 5 6]]\n",
      "type <class 'numpy.ndarray'>\n",
      "Dimension is 2\n",
      "[[[ 1  2  3]\n",
      "  [ 4  5  6]]\n",
      "\n",
      " [[-1 -2 -3]\n",
      "  [-4 -5 -6]]]\n",
      "type <class 'numpy.ndarray'>\n",
      "Dimension is 3\n",
      "[[ 1  2  3  7]\n",
      " [ 4  5  6  8]\n",
      " [-1 -2 -3 -7]\n",
      " [-4 -5 -6 -8]]\n",
      "type <class 'numpy.ndarray'>\n",
      "Dimension is 2\n"
     ]
    }
   ],
   "source": [
    "a = np.array(12)\n",
    "print_array_n_dimension(a)\n",
    "b = np.array([1,2,3])\n",
    "print_array_n_dimension(b)\n",
    "c =np.array([[1,2,3],[4,5,6]])\n",
    "print_array_n_dimension(c)\n",
    "d = np.array([[[1,2,3],[4,5,6]],[[-1,-2,-3],[-4,-5,-6]]])\n",
    "print_array_n_dimension(d)\n",
    "e = np.array([[1,2,3,7],[4,5,6,8],[-1,-2,-3,-7],[-4,-5,-6,-8]])\n",
    "print_array_n_dimension(e)\n"
   ]
  },
  {
   "cell_type": "code",
   "execution_count": 25,
   "metadata": {},
   "outputs": [
    {
     "name": "stdout",
     "output_type": "stream",
     "text": [
      "12\n",
      "1\n",
      "c[0]= [1 2 3]\n",
      "c[0,1]= 2\n",
      "c[0,0]= 1\n",
      "d[0]= [[1 2 3]\n",
      " [4 5 6]]\n",
      "d[0,1]= [4 5 6]\n",
      "d[0,1,1]= 5\n"
     ]
    }
   ],
   "source": [
    "#zero dimension\n",
    "print(a)\n",
    "#one dimension\n",
    "print(b[0])\n",
    "#two dimension\n",
    "print(f\"c[0]= {c[0]}\")\n",
    "print(f\"c[0,1]= {c[0,1]}\")\n",
    "print(f\"c[0,0]= {c[0,0]}\")\n",
    "#three dimension\n",
    "print(f\"d[0]= {d[0]}\")\n",
    "print(f\"d[0,1]= {d[0,1]}\")\n",
    "print(f\"d[0,1,1]= {d[0,1,1]}\")\n"
   ]
  },
  {
   "cell_type": "code",
   "execution_count": 26,
   "metadata": {},
   "outputs": [
    {
     "name": "stdout",
     "output_type": "stream",
     "text": [
      "my_list[0], 1\n",
      "my_list[3], 4\n",
      "my_list[-1], 4\n"
     ]
    }
   ],
   "source": [
    "my_list = [1,2,3,4]\n",
    "print(f\"my_list[0], {my_list[0]}\")\n",
    "print(f\"my_list[3], {my_list[3]}\")\n",
    "print(f\"my_list[-1], {my_list[-1]}\")"
   ]
  },
  {
   "cell_type": "code",
   "execution_count": 28,
   "metadata": {},
   "outputs": [
    {
     "name": "stdout",
     "output_type": "stream",
     "text": [
      "[[1 2 3]\n",
      " [4 5 6]]\n",
      "c[-1,0] = 4\n"
     ]
    }
   ],
   "source": [
    "#neagtive indexing\n",
    "print(c)\n",
    "print(f\"c[-1,0] = {c[-1,0]}\")"
   ]
  },
  {
   "cell_type": "code",
   "execution_count": 36,
   "metadata": {},
   "outputs": [
    {
     "name": "stdout",
     "output_type": "stream",
     "text": [
      "[1, 2, 3, 4, 5, 6, 7, 8, 9, 10]\n",
      "[1, 2, 3]\n",
      "[1, 3, 5]\n",
      "[5, 6, 7, 8, 9, 10]\n"
     ]
    }
   ],
   "source": [
    "my_list = [1,2,3,4,5,6,7,8,9,10]\n",
    "print(my_list)\n",
    "print(my_list[0:3])\n",
    "print(my_list[0:6:2])\n",
    "print(my_list[4:])"
   ]
  },
  {
   "cell_type": "code",
   "execution_count": 37,
   "metadata": {},
   "outputs": [
    {
     "name": "stdout",
     "output_type": "stream",
     "text": [
      "[ 1  2  3  4  5  6  7  8  9 10]\n",
      "[1 2 3]\n",
      "[1 3 5]\n",
      "[ 5  6  7  8  9 10]\n"
     ]
    }
   ],
   "source": [
    "arr = np.arange(1,11)\n",
    "print(arr)\n",
    "print(arr[0:3])\n",
    "print(arr[0:6:2])\n",
    "print(arr[4:])"
   ]
  },
  {
   "cell_type": "code",
   "execution_count": 42,
   "metadata": {},
   "outputs": [
    {
     "name": "stdout",
     "output_type": "stream",
     "text": [
      "[11 12]\n",
      "[[2 3 4]\n",
      " [7 8 9]]\n"
     ]
    }
   ],
   "source": [
    "arr = np.array([[1,2,3,4,5],[6,7,8,9,10],[11,12,13,14,15]])\n",
    "print(arr[-1,0:2])\n",
    "print(arr[0:2,1:4])\n",
    "#0:2 selecting 1st and 2nd arrays and 1:4 slicing those arrays"
   ]
  },
  {
   "cell_type": "markdown",
   "metadata": {},
   "source": [
    "Data Types\n",
    "----------\n",
    "\n",
    "* `i` : integer\n",
    "* `b` : boolean\n",
    "* `u` : unsigned integer\n",
    "* `f` : float\n",
    "* `c` : complex float\n",
    "* `m` : timedelta\n",
    "* `M` : datetime\n",
    "* `O` : object\n",
    "* `S` : string\n",
    "* `U` : unicode string"
   ]
  },
  {
   "cell_type": "code",
   "execution_count": 48,
   "metadata": {},
   "outputs": [
    {
     "name": "stdout",
     "output_type": "stream",
     "text": [
      "[b'dell' b'hp' b'lenovo']\n",
      "|S6\n",
      "['dell' 'hp' 'lenovo']\n",
      "<U6\n",
      "[b'dell' b'hp' b'lenovo']\n",
      "|S6\n",
      "[b'0' b'1']\n",
      "|S1\n"
     ]
    }
   ],
   "source": [
    "print(arr)\n",
    "print(arr.dtype)\n",
    "arr = np.array(['dell','hp','lenovo'])\n",
    "print(arr)\n",
    "print(arr.dtype)\n",
    "arr = np.array(['dell','hp','lenovo'],dtype='S')\n",
    "print(arr)\n",
    "print(arr.dtype)\n",
    "arr = np.array([0,1],dtype='S')\n",
    "print(arr)\n",
    "print(arr.dtype)"
   ]
  },
  {
   "cell_type": "code",
   "execution_count": 55,
   "metadata": {},
   "outputs": [
    {
     "name": "stdout",
     "output_type": "stream",
     "text": [
      "[2.5 3.6 4.  5.8]\n",
      "float64\n",
      "[2 3 4 5]\n",
      "int32\n",
      "['2.5' '3.6' '4.0' '5.8']\n",
      "<U32\n"
     ]
    }
   ],
   "source": [
    "arr = np.array([2.5,3.6,4.0,5.8])\n",
    "print(arr)\n",
    "print(arr.dtype)\n",
    "new_arr = arr.astype(int)\n",
    "print(new_arr)\n",
    "print(new_arr.dtype)\n",
    "new_arr = arr.astype(str)\n",
    "print(new_arr)\n",
    "print(new_arr.dtype)"
   ]
  },
  {
   "cell_type": "code",
   "execution_count": 67,
   "metadata": {},
   "outputs": [
    {
     "name": "stdout",
     "output_type": "stream",
     "text": [
      "arr = [0 2 3 4 5 6 7]\n",
      "copy_arr = [1 2 3 4 5 6 7]\n",
      "copy_arr is None\n"
     ]
    }
   ],
   "source": [
    "arr = np.array([1,2,3,4,5,6,7])\n",
    "copy_arr = arr.copy()\n",
    "arr[0] =0\n",
    "print(f\"arr = {arr}\")\n",
    "print(f\"copy_arr = {copy_arr}\")\n",
    "print(f\"copy_arr is {copy_arr.base}\")"
   ]
  },
  {
   "cell_type": "code",
   "execution_count": 71,
   "metadata": {},
   "outputs": [
    {
     "name": "stdout",
     "output_type": "stream",
     "text": [
      "before change\n",
      "arr = [1 2 3 4 5 6 7]\n",
      "view_arr = [1 2 3 4 5 6 7]\n",
      "copy_arr is [1 2 3 4 5 6 7] \n",
      "\n",
      "after 1st change\n",
      "arr = [0 2 3 4 5 6 7]\n",
      "view_arr = [0 2 3 4 5 6 7]\n",
      "copy_arr is [0 2 3 4 5 6 7]\n",
      "\n",
      "after 2nd change\n",
      "arr = [0 2 3 4 5 6 8]\n",
      "view_arr = [0 2 3 4 5 6 8]\n",
      "copy_arr is [0 2 3 4 5 6 8]\n"
     ]
    }
   ],
   "source": [
    "arr = np.array([1,2,3,4,5,6,7])\n",
    "view_arr = arr.view()\n",
    "print('before change')\n",
    "print(f\"arr = {arr}\")\n",
    "print(f\"view_arr = {view_arr}\")\n",
    "print(f\"copy_arr is {view_arr.base} \\n\")\n",
    "\n",
    "arr[0] = 0\n",
    "print('after 1st change')\n",
    "print(f\"arr = {arr}\")\n",
    "print(f\"view_arr = {view_arr}\")\n",
    "print(f\"copy_arr is {view_arr.base}\\n\")\n",
    "\n",
    "view_arr[-1] = 8\n",
    "print('after 2nd change')\n",
    "print(f\"arr = {arr}\")\n",
    "print(f\"view_arr = {view_arr}\")\n",
    "print(f\"copy_arr is {view_arr.base}\")\n",
    "\n",
    "#view does not make any change, its just different name for the same location"
   ]
  },
  {
   "cell_type": "markdown",
   "metadata": {},
   "source": [
    "Shape of Array : The shape of array is number of elements in each dimension"
   ]
  },
  {
   "cell_type": "code",
   "execution_count": 79,
   "metadata": {},
   "outputs": [
    {
     "name": "stdout",
     "output_type": "stream",
     "text": [
      "shape of [1 2 3 4 5 6 7] is (7,)\n",
      "\n",
      "shape of [[1 2 3 4]\n",
      " [5 6 7 8]] is (2, 4)\n",
      "\n",
      "shape of [[[1 2 3]]] is (1, 1, 3)\n",
      "\n"
     ]
    }
   ],
   "source": [
    "arr = np.array([1,2,3,4,5,6,7])\n",
    "print(f\"shape of {arr} is {arr.shape}\\n\")\n",
    "\n",
    "arr = np.array([[1,2,3,4],[5,6,7,8]])\n",
    "print(f\"shape of {arr} is {arr.shape}\\n\")\n",
    "# arr.shape (2,4) where 2 means 1st dimension has 2 elements and 2nd dimension has 4 elements\n",
    "\n",
    "arr = np.array([1,2,3],ndmin=3)\n",
    "print(f\"shape of {arr} is {arr.shape}\\n\")\n",
    "# arr.shape (1,1,3) where 2 means 1st dimension has 1 element, 2nd dimension has 1 element and 3rd dimension has 3 elements\n",
    "# since arrays does not support multi dimension in each dimension they will have same number of elements\n"
   ]
  },
  {
   "cell_type": "code",
   "execution_count": 82,
   "metadata": {},
   "outputs": [
    {
     "name": "stdout",
     "output_type": "stream",
     "text": [
      "[[0 1 2]\n",
      " [3 4 5]\n",
      " [6 7 8]]\n"
     ]
    }
   ],
   "source": [
    "#Reshape from 1D to 2D\n",
    "arr = np.array([0,1,2,3,4,5,6,7,8])\n",
    "new_arr = arr.reshape(3,3)\n",
    "print(new_arr)"
   ]
  },
  {
   "cell_type": "code",
   "execution_count": 84,
   "metadata": {},
   "outputs": [
    {
     "name": "stdout",
     "output_type": "stream",
     "text": [
      "[[[ 0  1]\n",
      "  [ 2  3]\n",
      "  [ 4  5]]\n",
      "\n",
      " [[ 6  7]\n",
      "  [ 8  9]\n",
      "  [10 11]]]\n",
      "[ 0  1  2  3  4  5  6  7  8  9 10 11]\n"
     ]
    }
   ],
   "source": [
    "#Reshape from 1D to 2D\n",
    "arr = np.array([0,1,2,3,4,5,6,7,8,9,10,11])\n",
    "new_arr = arr.reshape(2,3,2)\n",
    "print(new_arr)\n",
    "print(new_arr.base)"
   ]
  }
 ],
 "metadata": {
  "interpreter": {
   "hash": "5e03e0b258f59d5e98d856cff4fd410e0f49e730619ed276ea5af34a69bf7e47"
  },
  "kernelspec": {
   "display_name": "Python 3.8.8 ('base')",
   "language": "python",
   "name": "python3"
  },
  "language_info": {
   "codemirror_mode": {
    "name": "ipython",
    "version": 3
   },
   "file_extension": ".py",
   "mimetype": "text/x-python",
   "name": "python",
   "nbconvert_exporter": "python",
   "pygments_lexer": "ipython3",
   "version": "3.8.8"
  },
  "orig_nbformat": 4
 },
 "nbformat": 4,
 "nbformat_minor": 2
}
