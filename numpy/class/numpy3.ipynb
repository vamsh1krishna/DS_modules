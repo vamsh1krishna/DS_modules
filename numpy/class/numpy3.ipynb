{
 "cells": [
  {
   "cell_type": "markdown",
   "metadata": {},
   "source": [
    "* `searchsorted()` performs binary search in the array and returns the index where the specified value would be inserted to maintain search order\n",
    "* searchsorted method is assumed to be used on `sorted arrays`"
   ]
  },
  {
   "cell_type": "code",
   "execution_count": 4,
   "metadata": {},
   "outputs": [],
   "source": [
    "import numpy as np"
   ]
  },
  {
   "cell_type": "code",
   "execution_count": 5,
   "metadata": {},
   "outputs": [
    {
     "name": "stdout",
     "output_type": "stream",
     "text": [
      "1\n",
      "2\n"
     ]
    }
   ],
   "source": [
    "arr = np.array([3,4,5,6])\n",
    "index = np.searchsorted(arr,4)\n",
    "print(index)\n",
    "index = np.searchsorted(arr,4,side='right')\n",
    "print(index)"
   ]
  },
  {
   "cell_type": "code",
   "execution_count": 6,
   "metadata": {},
   "outputs": [
    {
     "name": "stdout",
     "output_type": "stream",
     "text": [
      "4\n"
     ]
    }
   ],
   "source": [
    "#not a right way\n",
    "arr = np.array([4,1,2,0])\n",
    "index = np.searchsorted(arr,4,side='right')\n",
    "print(index)"
   ]
  },
  {
   "cell_type": "code",
   "execution_count": 7,
   "metadata": {},
   "outputs": [
    {
     "name": "stdout",
     "output_type": "stream",
     "text": [
      "[0 0 4]\n",
      "[0 1 4]\n"
     ]
    }
   ],
   "source": [
    "arr =np.array([3,5,7,9])\n",
    "index = np.searchsorted(arr,[2,3,10])\n",
    "print(index)\n",
    "\n",
    "index = np.searchsorted(arr,[2,3,10],side='right')\n",
    "print(index)\n",
    "\n",
    "# side = 'left' or 'right' comes into picture when there are duplicates\n"
   ]
  },
  {
   "cell_type": "markdown",
   "metadata": {},
   "source": [
    "Sorting Arrays\n",
    "--------------"
   ]
  },
  {
   "cell_type": "code",
   "execution_count": 8,
   "metadata": {},
   "outputs": [
    {
     "name": "stdout",
     "output_type": "stream",
     "text": [
      "[0 1 2 4]\n",
      "[[2 3 5]\n",
      " [0 4 6]]\n"
     ]
    }
   ],
   "source": [
    "arr = np.array([4,1,2,0])\n",
    "print(np.sort(arr))\n",
    "\n",
    "arr = np.array([[3,2,5],[6,0,4]])\n",
    "print(np.sort(arr))"
   ]
  },
  {
   "cell_type": "markdown",
   "metadata": {},
   "source": [
    "Filtering Arrays\n",
    "----------------"
   ]
  },
  {
   "cell_type": "code",
   "execution_count": 9,
   "metadata": {},
   "outputs": [
    {
     "name": "stdout",
     "output_type": "stream",
     "text": [
      "[True, False, True, False, True, False, True, False, True]\n",
      "[1 3 5 7 9]\n"
     ]
    }
   ],
   "source": [
    "arr = np.arange(1,10)\n",
    "\n",
    "#filter array\n",
    "filter_arr = []\n",
    "for element in arr:\n",
    "    if element%2==0:\n",
    "        filter_arr.append(False)\n",
    "    else:\n",
    "        filter_arr.append(True)\n",
    "\n",
    "new_arr = arr[filter_arr]\n",
    "print(filter_arr)\n",
    "print(new_arr)"
   ]
  },
  {
   "cell_type": "code",
   "execution_count": 10,
   "metadata": {},
   "outputs": [
    {
     "name": "stdout",
     "output_type": "stream",
     "text": [
      "[ True False  True False  True False  True False  True]\n",
      "[1 3 5 7 9]\n"
     ]
    }
   ],
   "source": [
    "arr = np.arange(1,10)\n",
    "filter_arr = arr%2==1\n",
    "new_arr = arr[filter_arr]\n",
    "print(filter_arr)\n",
    "print(new_arr)"
   ]
  },
  {
   "cell_type": "code",
   "execution_count": 15,
   "metadata": {},
   "outputs": [
    {
     "name": "stdout",
     "output_type": "stream",
     "text": [
      "[ 11  13  17  19  23  29  31  37  41  43  47  53  59  61  67  71  73  79\n",
      "  83  89  97 101 103 107 109 113 127 131 137 139 149 151 157 163 167 173\n",
      " 179 181 191 193 197 199 211 223 227 229 233 239 241 251 257 263 269 271\n",
      " 277 281 283 293 307 311 313 317 331 337 347 349 353 359 367 373 379 383\n",
      " 389 397 401 409 419 421 431 433 439 443 449 457 461 463 467 479 487 491\n",
      " 499 503 509 521 523 541 547 557 563 569 571 577 587 593 599 601 607 613\n",
      " 617 619 631 641 643 647 653 659 661 673 677 683 691 701 709 719 727 733\n",
      " 739 743 751 757 761 769 773 787 797 809 811 821 823 827 829 839 853 857\n",
      " 859 863 877 881 883 887 907 911 919 929 937 941 947 953 967 971 977 983\n",
      " 991 997]\n"
     ]
    }
   ],
   "source": [
    "#create a filter to filter out prime number between 10 to 100\n",
    "numbers = [*range(10,1001)]\n",
    "# print(numbers)\n",
    "arr = np.array(numbers)\n",
    "\n",
    "def is_prime(number):\n",
    "    for index in range(2,number//2+1):\n",
    "        if number%index==0:\n",
    "            return False\n",
    "    return True\n",
    "\n",
    "filter_arr = []\n",
    "for element in arr:\n",
    "    if is_prime(element):\n",
    "        filter_arr.append(True)\n",
    "    else:\n",
    "        filter_arr.append(False)\n",
    "# print(filter_arr)\n",
    "print(arr[filter_arr])"
   ]
  },
  {
   "cell_type": "code",
   "execution_count": 19,
   "metadata": {},
   "outputs": [
    {
     "name": "stdout",
     "output_type": "stream",
     "text": [
      "[ 11  13  17  19  23  29  31  37  41  43  47  53  59  61  67  71  73  79\n",
      "  83  89  97 101 103 107 109 113 127 131 137 139 149 151 157 163 167 173\n",
      " 179 181 191 193 197 199 211 223 227 229 233 239 241 251 257 263 269 271\n",
      " 277 281 283 293 307 311 313 317 331 337 347 349 353 359 367 373 379 383\n",
      " 389 397 401 409 419 421 431 433 439 443 449 457 461 463 467 479 487 491\n",
      " 499 503 509 521 523 541 547 557 563 569 571 577 587 593 599 601 607 613\n",
      " 617 619 631 641 643 647 653 659 661 673 677 683 691 701 709 719 727 733\n",
      " 739 743 751 757 761 769 773 787 797 809 811 821 823 827 829 839 853 857\n",
      " 859 863 877 881 883 887 907 911 919 929 937 941 947 953 967 971 977 983\n",
      " 991 997]\n"
     ]
    }
   ],
   "source": [
    "#array from 10 to 1000\n",
    "arr = np.arange(10,10**3+1)\n",
    "is_prime_vector = np.vectorize(is_prime)\n",
    "print(arr[is_prime_vector(arr)])"
   ]
  },
  {
   "cell_type": "markdown",
   "metadata": {},
   "source": [
    "Random Numbers with Numpy\n",
    "-------------------------"
   ]
  },
  {
   "cell_type": "code",
   "execution_count": 26,
   "metadata": {},
   "outputs": [
    {
     "name": "stdout",
     "output_type": "stream",
     "text": [
      "886\n",
      "0.11461957490376096\n",
      "[135 167 749 344  90 347 391 998 534 275]\n",
      "[[ 35   6 888 689 698]\n",
      " [577 483 917 763 590]\n",
      " [710 629 265 207 896]]\n",
      "964\n",
      "[[238 489 964]\n",
      " [850 218 380]\n",
      " [238 218 964]]\n"
     ]
    }
   ],
   "source": [
    "from numpy import random\n",
    "\n",
    "# random number betweeen 0 to 1000\n",
    "print(random.randint(1000))\n",
    "\n",
    "#random float -> 0 to 1\n",
    "print(random.rand())\n",
    "\n",
    "#random array\n",
    "print(random.randint(1000,size=(10)))\n",
    "\n",
    "#2D array\n",
    "print(random.randint(1000,size=(3,5)))\n",
    "\n",
    "array = [850,380,238,272,986,489,726,964,918,218]\n",
    "print(random.choice(array))\n",
    "print(random.choice(array,size=(3,3)))"
   ]
  },
  {
   "cell_type": "markdown",
   "metadata": {},
   "source": [
    "Random Distribution\n",
    "-------------------\n",
    "* This is set of random numbers tha tfollow a certain probability density function\n",
    "\n"
   ]
  },
  {
   "cell_type": "code",
   "execution_count": 29,
   "metadata": {},
   "outputs": [
    {
     "name": "stdout",
     "output_type": "stream",
     "text": [
      "[3 2 2 3 4 1 2 1 4 4 1 0 1 3 2 4 3 2 3 2 0 1 4 1 2 1 4 4 2 2 3 1 1 4 1 1 4\n",
      " 0 4 3 2 2 4 1 1 1 1 3 2 3]\n",
      "[4 6 1 1 3 2 3 6 1 2 1 3 1 4 4 4 4 4 4 2 3 4 3 2 4 6 1 5 1 3 6 3 3 5 6 2 4\n",
      " 2 5 5 4 1 6 1 6 3 3 4 5 2 5 1 6 1 2 2 3 3 6 4 1 1 5 6 2 6 4 5 4 6 6 6 2 2\n",
      " 3 5 2 2 2 6 2 4 4 1 5 2 3 1 5 1 3 5 3 5 1 3 4 4 3 6]\n"
     ]
    }
   ],
   "source": [
    "# * Generate a 1-D array containing 50 values where each value has to 0,1,2,3or 4\n",
    "#     * Probability for the value to be 0 is 0.1\n",
    "#     * Probability for the value to be 3 is 0.2\n",
    "#     * Probability for the value to be 1 is 0.3\n",
    "#     * Probability for the value to be 2 is 0.2\n",
    "#     * Probability for the value to be 4 is 0.2\n",
    "\n",
    "values = random.choice([0,1,2,3,4],p=[0.1,0.3,0.2,0.2,0.2],size=50)\n",
    "print(values)\n",
    "\n",
    "dice_rolls = random.choice([1,2,3,4,5,6],p=[1/6,1/6,1/6,1/6,1/6,1/6],size =100)\n",
    "print(dice_rolls)"
   ]
  },
  {
   "cell_type": "code",
   "execution_count": 31,
   "metadata": {},
   "outputs": [
    {
     "name": "stdout",
     "output_type": "stream",
     "text": [
      "[[3 4 3 1 2]\n",
      " [3 1 4 1 4]\n",
      " [3 4 3 2 0]\n",
      " [1 0 0 3 1]]\n"
     ]
    }
   ],
   "source": [
    "# * Generate a 2-D array containing 4*5 values where each value has to 0,1,2,3or 4\n",
    "values = random.choice([0,1,2,3,4],p =[0.1,0.3,0.2,0.2,0.2],size=(4,5))\n",
    "print(values)"
   ]
  },
  {
   "cell_type": "markdown",
   "metadata": {},
   "source": [
    "Shuffling arrays\n",
    "----------------\n",
    "Shuffling makes changes in the original array"
   ]
  },
  {
   "cell_type": "code",
   "execution_count": 40,
   "metadata": {},
   "outputs": [
    {
     "name": "stdout",
     "output_type": "stream",
     "text": [
      "['8' 'A' '9' '4' '10' '7' 'J' '3' '5' 'K' '2' '6' 'Q']\n",
      "['3' 'Q' 'A' '10' '5' '7' '8' 'J' '2' 'K' '9' '4' '6']\n",
      "['2' '3' '4' '5' '6' '7' '8' '9' '10' 'J' 'Q' 'K' 'A']\n"
     ]
    }
   ],
   "source": [
    "arr = np.array(['2','3','4','5','6','7','8','9','10','J','Q','K','A'])\n",
    "random.shuffle(arr)\n",
    "print(arr)\n",
    "\n",
    "arr = np.array(['2','3','4','5','6','7','8','9','10','J','Q','K','A'])\n",
    "print(random.permutation(arr))\n",
    "print(arr)\n",
    "#permutation returns the rearranged array and original array will remain unchanged\n",
    "\n"
   ]
  },
  {
   "cell_type": "code",
   "execution_count": null,
   "metadata": {},
   "outputs": [],
   "source": []
  },
  {
   "cell_type": "code",
   "execution_count": null,
   "metadata": {},
   "outputs": [],
   "source": []
  }
 ],
 "metadata": {
  "interpreter": {
   "hash": "5f4e3b22efeece7a53e8731080df76789e0d222fcf0863e0edc1ac6607c28f52"
  },
  "kernelspec": {
   "display_name": "Python 3.8.8 ('base')",
   "language": "python",
   "name": "python3"
  },
  "language_info": {
   "codemirror_mode": {
    "name": "ipython",
    "version": 3
   },
   "file_extension": ".py",
   "mimetype": "text/x-python",
   "name": "python",
   "nbconvert_exporter": "python",
   "pygments_lexer": "ipython3",
   "version": "3.8.8"
  },
  "orig_nbformat": 4
 },
 "nbformat": 4,
 "nbformat_minor": 2
}
