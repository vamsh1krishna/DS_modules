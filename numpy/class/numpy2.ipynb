{
 "cells": [
  {
   "cell_type": "code",
   "execution_count": 3,
   "id": "67937794",
   "metadata": {},
   "outputs": [],
   "source": [
    "import numpy as np"
   ]
  },
  {
   "cell_type": "markdown",
   "metadata": {},
   "source": [
    "Reshaping Arrays(contd)"
   ]
  },
  {
   "cell_type": "code",
   "execution_count": 6,
   "id": "d43fff33",
   "metadata": {},
   "outputs": [
    {
     "data": {
      "text/plain": [
       "array([[[ 0,  1,  2],\n",
       "        [ 3,  4,  5]],\n",
       "\n",
       "       [[ 6,  7,  8],\n",
       "        [ 9, 10, 11]]])"
      ]
     },
     "execution_count": 6,
     "metadata": {},
     "output_type": "execute_result"
    }
   ],
   "source": [
    "arr = np.array([0,1,2,3,4,5,6,7,8,9,10,11])\n",
    "newarr = arr.reshape(2,2,-1)\n",
    "newarr"
   ]
  },
  {
   "cell_type": "code",
   "execution_count": 7,
   "id": "8db9dcc4",
   "metadata": {},
   "outputs": [
    {
     "data": {
      "text/plain": [
       "array([[[0, 1],\n",
       "        [2, 3]],\n",
       "\n",
       "       [[4, 5],\n",
       "        [6, 7]]])"
      ]
     },
     "execution_count": 7,
     "metadata": {},
     "output_type": "execute_result"
    }
   ],
   "source": [
    "arr = np.array([0,1,2,3,4,5,6,7])\n",
    "newarr = arr.reshape(2,2,-1)\n",
    "newarr"
   ]
  },
  {
   "cell_type": "code",
   "execution_count": 8,
   "id": "175d4e47",
   "metadata": {},
   "outputs": [
    {
     "ename": "ValueError",
     "evalue": "can only specify one unknown dimension",
     "output_type": "error",
     "traceback": [
      "\u001b[1;31m---------------------------------------------------------------------------\u001b[0m",
      "\u001b[1;31mValueError\u001b[0m                                Traceback (most recent call last)",
      "\u001b[1;32m<ipython-input-8-c56c7c82510c>\u001b[0m in \u001b[0;36m<module>\u001b[1;34m\u001b[0m\n\u001b[0;32m      1\u001b[0m \u001b[1;31m# pass -1 as dimension more than once, it will trough error\u001b[0m\u001b[1;33m\u001b[0m\u001b[1;33m\u001b[0m\u001b[1;33m\u001b[0m\u001b[0m\n\u001b[0;32m      2\u001b[0m \u001b[0marr\u001b[0m \u001b[1;33m=\u001b[0m \u001b[0mnp\u001b[0m\u001b[1;33m.\u001b[0m\u001b[0marray\u001b[0m\u001b[1;33m(\u001b[0m\u001b[1;33m[\u001b[0m\u001b[1;36m0\u001b[0m\u001b[1;33m,\u001b[0m\u001b[1;36m1\u001b[0m\u001b[1;33m,\u001b[0m\u001b[1;36m2\u001b[0m\u001b[1;33m,\u001b[0m\u001b[1;36m3\u001b[0m\u001b[1;33m,\u001b[0m\u001b[1;36m4\u001b[0m\u001b[1;33m,\u001b[0m\u001b[1;36m5\u001b[0m\u001b[1;33m,\u001b[0m\u001b[1;36m6\u001b[0m\u001b[1;33m,\u001b[0m\u001b[1;36m7\u001b[0m\u001b[1;33m]\u001b[0m\u001b[1;33m)\u001b[0m\u001b[1;33m\u001b[0m\u001b[1;33m\u001b[0m\u001b[0m\n\u001b[1;32m----> 3\u001b[1;33m \u001b[0mnewarr\u001b[0m \u001b[1;33m=\u001b[0m \u001b[0marr\u001b[0m\u001b[1;33m.\u001b[0m\u001b[0mreshape\u001b[0m\u001b[1;33m(\u001b[0m\u001b[1;36m2\u001b[0m\u001b[1;33m,\u001b[0m\u001b[1;33m-\u001b[0m\u001b[1;36m1\u001b[0m\u001b[1;33m,\u001b[0m\u001b[1;33m-\u001b[0m\u001b[1;36m1\u001b[0m\u001b[1;33m)\u001b[0m\u001b[1;33m\u001b[0m\u001b[1;33m\u001b[0m\u001b[0m\n\u001b[0m\u001b[0;32m      4\u001b[0m \u001b[0mnewarr\u001b[0m\u001b[1;33m\u001b[0m\u001b[1;33m\u001b[0m\u001b[0m\n",
      "\u001b[1;31mValueError\u001b[0m: can only specify one unknown dimension"
     ]
    }
   ],
   "source": [
    "# pass -1 as dimension more than once, it will trough error\n",
    "arr = np.array([0,1,2,3,4,5,6,7])\n",
    "newarr = arr.reshape(2,-1,-1)\n",
    "newarr"
   ]
  },
  {
   "cell_type": "code",
   "execution_count": 9,
   "id": "70d8a91c",
   "metadata": {},
   "outputs": [
    {
     "data": {
      "text/plain": [
       "array([[[0, 1],\n",
       "        [2, 3]],\n",
       "\n",
       "       [[4, 5],\n",
       "        [6, 7]]])"
      ]
     },
     "execution_count": 9,
     "metadata": {},
     "output_type": "execute_result"
    }
   ],
   "source": [
    "arr = np.array([0,1,2,3,4,5,6,7])\n",
    "newarr = arr.reshape(2,-1,2)\n",
    "newarr"
   ]
  },
  {
   "cell_type": "code",
   "execution_count": 13,
   "id": "69b83d42",
   "metadata": {},
   "outputs": [
    {
     "data": {
      "text/plain": [
       "array([[[1],\n",
       "        [2],\n",
       "        [3]],\n",
       "\n",
       "       [[4],\n",
       "        [5],\n",
       "        [6]]])"
      ]
     },
     "execution_count": 13,
     "metadata": {},
     "output_type": "execute_result"
    }
   ],
   "source": [
    "arr = np.array([[1,2,3],[4,5,6]])\n",
    "newarr = arr.reshape(2,3,1)\n",
    "newarr"
   ]
  },
  {
   "cell_type": "code",
   "execution_count": 10,
   "id": "8e9d59ac",
   "metadata": {},
   "outputs": [
    {
     "data": {
      "text/plain": [
       "array([1, 2, 3, 4, 5, 6])"
      ]
     },
     "execution_count": 10,
     "metadata": {},
     "output_type": "execute_result"
    }
   ],
   "source": [
    "arr = np.array([[1,2,3],[4,5,6]])\n",
    "newarr = arr.reshape(-1)\n",
    "newarr"
   ]
  },
  {
   "cell_type": "markdown",
   "id": "6478e924",
   "metadata": {},
   "source": [
    "flatten arrays"
   ]
  },
  {
   "cell_type": "code",
   "execution_count": 17,
   "id": "b18c6046",
   "metadata": {},
   "outputs": [
    {
     "name": "stdout",
     "output_type": "stream",
     "text": [
      "[1 2 3 4 5 6]\n",
      "[[[0 1]\n",
      "  [2 3]]\n",
      "\n",
      " [[4 5]\n",
      "  [6 7]]]\n",
      "[0 1 2 3 4 5 6 7]\n"
     ]
    }
   ],
   "source": [
    "arr = np.array([[1,2,3],[4,5,6]])\n",
    "newarr = arr.reshape(-1)\n",
    "print(newarr)\n",
    "arr = np.array([0,1,2,3,4,5,6,7])\n",
    "newarr=arr.reshape(-1,2,2)\n",
    "print(newarr)\n",
    "flatten_array = newarr.reshape(-1)\n",
    "print(flatten_array)"
   ]
  },
  {
   "cell_type": "code",
   "execution_count": 19,
   "id": "f3617a8c",
   "metadata": {},
   "outputs": [
    {
     "name": "stdout",
     "output_type": "stream",
     "text": [
      "0\n",
      "1\n",
      "2\n",
      "3\n",
      "4\n",
      "5\n",
      "6\n",
      "7\n",
      "8\n",
      "9\n"
     ]
    }
   ],
   "source": [
    "arr = np.arange(10)\n",
    "for item in arr:\n",
    "    print(item)"
   ]
  },
  {
   "cell_type": "code",
   "execution_count": 21,
   "id": "05fec28b",
   "metadata": {},
   "outputs": [
    {
     "name": "stdout",
     "output_type": "stream",
     "text": [
      "[0 1 2 3]\n",
      "[4 5 6 7]\n",
      "0\n",
      "1\n",
      "2\n",
      "3\n",
      "4\n",
      "5\n",
      "6\n",
      "7\n"
     ]
    }
   ],
   "source": [
    "arr =np.array([[0,1,2,3],[4,5,6,7]])\n",
    "for item in arr:\n",
    "    print(item)\n",
    "\n",
    "#it is 2D array so double loop \n",
    "for x_item in arr:\n",
    "    for y_item in x_item:\n",
    "        print(y_item)"
   ]
  },
  {
   "cell_type": "code",
   "execution_count": 23,
   "id": "bcea50d1",
   "metadata": {},
   "outputs": [
    {
     "ename": "TypeError",
     "evalue": "Cannot interpret '1' as a data type",
     "output_type": "error",
     "traceback": [
      "\u001b[1;31m---------------------------------------------------------------------------\u001b[0m",
      "\u001b[1;31mTypeError\u001b[0m                                 Traceback (most recent call last)",
      "\u001b[1;32m<ipython-input-23-753cf54c7d33>\u001b[0m in \u001b[0;36m<module>\u001b[1;34m\u001b[0m\n\u001b[1;32m----> 1\u001b[1;33m \u001b[0marr\u001b[0m \u001b[1;33m=\u001b[0m\u001b[0mnp\u001b[0m\u001b[1;33m.\u001b[0m\u001b[0mones\u001b[0m\u001b[1;33m(\u001b[0m\u001b[1;36m2\u001b[0m\u001b[1;33m,\u001b[0m\u001b[1;36m1\u001b[0m\u001b[1;33m,\u001b[0m\u001b[1;36m3\u001b[0m\u001b[1;33m)\u001b[0m\u001b[1;33m\u001b[0m\u001b[1;33m\u001b[0m\u001b[0m\n\u001b[0m\u001b[0;32m      2\u001b[0m \u001b[0marr\u001b[0m\u001b[1;33m\u001b[0m\u001b[1;33m\u001b[0m\u001b[0m\n",
      "\u001b[1;32m~\\anaconda3\\lib\\site-packages\\numpy\\core\\numeric.py\u001b[0m in \u001b[0;36mones\u001b[1;34m(shape, dtype, order, like)\u001b[0m\n\u001b[0;32m    201\u001b[0m         \u001b[1;32mreturn\u001b[0m \u001b[0m_ones_with_like\u001b[0m\u001b[1;33m(\u001b[0m\u001b[0mshape\u001b[0m\u001b[1;33m,\u001b[0m \u001b[0mdtype\u001b[0m\u001b[1;33m=\u001b[0m\u001b[0mdtype\u001b[0m\u001b[1;33m,\u001b[0m \u001b[0morder\u001b[0m\u001b[1;33m=\u001b[0m\u001b[0morder\u001b[0m\u001b[1;33m,\u001b[0m \u001b[0mlike\u001b[0m\u001b[1;33m=\u001b[0m\u001b[0mlike\u001b[0m\u001b[1;33m)\u001b[0m\u001b[1;33m\u001b[0m\u001b[1;33m\u001b[0m\u001b[0m\n\u001b[0;32m    202\u001b[0m \u001b[1;33m\u001b[0m\u001b[0m\n\u001b[1;32m--> 203\u001b[1;33m     \u001b[0ma\u001b[0m \u001b[1;33m=\u001b[0m \u001b[0mempty\u001b[0m\u001b[1;33m(\u001b[0m\u001b[0mshape\u001b[0m\u001b[1;33m,\u001b[0m \u001b[0mdtype\u001b[0m\u001b[1;33m,\u001b[0m \u001b[0morder\u001b[0m\u001b[1;33m)\u001b[0m\u001b[1;33m\u001b[0m\u001b[1;33m\u001b[0m\u001b[0m\n\u001b[0m\u001b[0;32m    204\u001b[0m     \u001b[0mmultiarray\u001b[0m\u001b[1;33m.\u001b[0m\u001b[0mcopyto\u001b[0m\u001b[1;33m(\u001b[0m\u001b[0ma\u001b[0m\u001b[1;33m,\u001b[0m \u001b[1;36m1\u001b[0m\u001b[1;33m,\u001b[0m \u001b[0mcasting\u001b[0m\u001b[1;33m=\u001b[0m\u001b[1;34m'unsafe'\u001b[0m\u001b[1;33m)\u001b[0m\u001b[1;33m\u001b[0m\u001b[1;33m\u001b[0m\u001b[0m\n\u001b[0;32m    205\u001b[0m     \u001b[1;32mreturn\u001b[0m \u001b[0ma\u001b[0m\u001b[1;33m\u001b[0m\u001b[1;33m\u001b[0m\u001b[0m\n",
      "\u001b[1;31mTypeError\u001b[0m: Cannot interpret '1' as a data type"
     ]
    }
   ],
   "source": [
    "arr =np.\n",
    "\n",
    "arr"
   ]
  },
  {
   "cell_type": "markdown",
   "id": "fcf72834",
   "metadata": {},
   "source": [
    "Itertaing using nditer"
   ]
  },
  {
   "cell_type": "code",
   "execution_count": 25,
   "id": "95e96b6b",
   "metadata": {},
   "outputs": [
    {
     "name": "stdout",
     "output_type": "stream",
     "text": [
      "0\n",
      "1\n",
      "2\n",
      "3\n",
      "4\n",
      "5\n",
      "6\n",
      "7\n"
     ]
    }
   ],
   "source": [
    "arr =np.array([[[0,1],[2,3],[4,5],[6,7]]])\n",
    "\n",
    "for item in np.nditer(arr):\n",
    "    print(item)"
   ]
  },
  {
   "cell_type": "markdown",
   "id": "cceb0a34",
   "metadata": {},
   "source": [
    "Iterating array with dtype"
   ]
  },
  {
   "cell_type": "code",
   "execution_count": 30,
   "id": "766f40b1",
   "metadata": {},
   "outputs": [
    {
     "name": "stdout",
     "output_type": "stream",
     "text": [
      "convert into String\n",
      "b'0'\n",
      "b'1'\n",
      "b'2'\n",
      "b'3'\n",
      "b'4'\n",
      "b'5'\n",
      "b'6'\n",
      "b'7'\n",
      "\n",
      "\n",
      "convert into Float\n",
      "0.0\n",
      "1.0\n",
      "2.0\n",
      "3.0\n",
      "4.0\n",
      "5.0\n",
      "6.0\n",
      "7.0\n"
     ]
    }
   ],
   "source": [
    "arr =np.array([[[0,1],[2,3],[4,5],[6,7]]])\n",
    "print(f\"convert into String\")\n",
    "for item in np.nditer(arr,flags=['buffered'],op_dtypes=['S']):\n",
    "    print(item)\n",
    "print('\\n')\n",
    "print(f\"convert into Float\")\n",
    "for item in np.nditer(arr,flags=['buffered'],op_dtypes=['f'],casting='unsafe'):\n",
    "    print(item)"
   ]
  },
  {
   "cell_type": "code",
   "execution_count": 32,
   "id": "cde398cd",
   "metadata": {},
   "outputs": [
    {
     "name": "stdout",
     "output_type": "stream",
     "text": [
      "0\n",
      "2\n",
      "4\n",
      "6\n"
     ]
    }
   ],
   "source": [
    "arr=np.array([[0,1,2,3],[4,5,6,7]])\n",
    "\n",
    "for item in np.nditer(arr[:, ::2]):\n",
    "    print(item)"
   ]
  },
  {
   "cell_type": "code",
   "execution_count": 34,
   "id": "f82ba764",
   "metadata": {},
   "outputs": [
    {
     "name": "stdout",
     "output_type": "stream",
     "text": [
      "Step of 2 in second dimension\n",
      "0\n",
      "2\n",
      "4\n",
      "6\n",
      "8\n",
      "10\n",
      "12\n",
      "14\n",
      "\n",
      "\n",
      "step of 2 in 1st dimension\n",
      "0\n",
      "1\n",
      "2\n",
      "3\n",
      "8\n",
      "9\n",
      "10\n",
      "11\n"
     ]
    }
   ],
   "source": [
    "arr=np.array([[0,1,2,3],[4,5,6,7],[8,9,10,11],[12,13,14,15]])\n",
    "print('Step of 2 in second dimension')\n",
    "for item in np.nditer(arr[:, ::2]):\n",
    "    print(item)\n",
    "print('\\n')\n",
    "print(\"step of 2 in 1st dimension\")\n",
    "for item in np.nditer(arr[::2, :]):\n",
    "    print(item)"
   ]
  },
  {
   "cell_type": "markdown",
   "id": "b8634092",
   "metadata": {},
   "source": [
    "Joining arrays with numpy\n",
    "-------------------------"
   ]
  },
  {
   "cell_type": "code",
   "execution_count": 35,
   "id": "3dcf9a9d",
   "metadata": {},
   "outputs": [
    {
     "data": {
      "text/plain": [
       "array([1, 2, 3, 4, 5, 6])"
      ]
     },
     "execution_count": 35,
     "metadata": {},
     "output_type": "execute_result"
    }
   ],
   "source": [
    "arr_1 = np.array([1,2,3])\n",
    "arr_2 = np.array([4,5,6])\n",
    "arr = np.concatenate((arr_1,arr_2))\n",
    "arr"
   ]
  },
  {
   "cell_type": "code",
   "execution_count": 38,
   "id": "d42ceab7",
   "metadata": {},
   "outputs": [
    {
     "name": "stdout",
     "output_type": "stream",
     "text": [
      "[[1 2]\n",
      " [3 4]\n",
      " [5 6]\n",
      " [7 8]]\n",
      " concatenate with axis =1\n",
      "[[1 2 5 6]\n",
      " [3 4 7 8]]\n"
     ]
    }
   ],
   "source": [
    "arr_1 =np.array([[1,2],[3,4]])\n",
    "arr_2 =np.array([[5,6],[7,8]])\n",
    "arr = np.concatenate((arr_1,arr_2))\n",
    "print(arr)\n",
    "print(f\" concatenate with axis =1\")\n",
    "arr = np.concatenate((arr_1,arr_2),axis=1)\n",
    "print(arr)\n"
   ]
  },
  {
   "cell_type": "code",
   "execution_count": 49,
   "id": "d9a2bbaa",
   "metadata": {},
   "outputs": [
    {
     "name": "stdout",
     "output_type": "stream",
     "text": [
      " stack with axis =1\n",
      "[[1 4]\n",
      " [2 5]\n",
      " [3 6]]\n",
      " stack with axis =2\n",
      "[[1 2 3]\n",
      " [4 5 6]]\n",
      " stack with axis =1\n",
      "[[[1 2]\n",
      "  [5 6]]\n",
      "\n",
      " [[3 4]\n",
      "  [7 8]]]\n",
      " stack with axis =2\n",
      "[[[1 2]\n",
      "  [3 4]]\n",
      "\n",
      " [[5 6]\n",
      "  [7 8]]]\n"
     ]
    }
   ],
   "source": [
    "#we can increase the axis as the dimension increases\n",
    "arr_1 =np.array([1,2,3])\n",
    "arr_2 =np.array([4,5,6])\n",
    "arr = np.stack((arr_1,arr_2),axis=1)\n",
    "print(f\" stack with axis =1\")\n",
    "print(arr)\n",
    "print(f\" stack with axis =2\")\n",
    "arr = np.stack((arr_1,arr_2),axis=0)\n",
    "print(arr)\n",
    "arr_1 =np.array([[1,2],[3,4]])\n",
    "arr_2 =np.array([[5,6],[7,8]])\n",
    "arr = np.stack((arr_1,arr_2),axis=1)\n",
    "print(f\" stack with axis =1\")\n",
    "print(arr)\n",
    "print(f\" stack with axis =2\")\n",
    "arr = np.stack((arr_1,arr_2),axis=0)\n",
    "print(arr)\n"
   ]
  },
  {
   "cell_type": "code",
   "execution_count": 53,
   "id": "e0b79d37",
   "metadata": {},
   "outputs": [
    {
     "name": "stdout",
     "output_type": "stream",
     "text": [
      "Row Stacking\n",
      "[1 2 3 4 5 6]\n",
      "\n",
      "\n",
      "Column Stacking\n",
      "[[1 2 3]\n",
      " [4 5 6]]\n",
      "\n",
      "\n",
      "Height Stacking\n",
      "[[[1 4]\n",
      "  [2 5]\n",
      "  [3 6]]]\n"
     ]
    }
   ],
   "source": [
    "# Stacking along rows\n",
    "arr_1 =np.array([1,2,3])\n",
    "arr_2 =np.array([4,5,6])\n",
    "arr = np.hstack((arr_1,arr_2))\n",
    "print(f\"Row Stacking\")\n",
    "print(arr)\n",
    "\n",
    "print('\\n')\n",
    "# Stacking along columns\n",
    "arr = np.vstack((arr_1,arr_2))\n",
    "print(f\"Column Stacking\")\n",
    "print(arr)\n",
    "\n",
    "print('\\n')\n",
    "# Stacking along columns\n",
    "arr = np.dstack((arr_1,arr_2))\n",
    "print(f\"Height Stacking\")\n",
    "print(arr)"
   ]
  },
  {
   "cell_type": "markdown",
   "id": "328afabb",
   "metadata": {},
   "source": [
    "Searching arrays"
   ]
  },
  {
   "cell_type": "code",
   "execution_count": 56,
   "id": "c5fa87d2",
   "metadata": {},
   "outputs": [
    {
     "name": "stdout",
     "output_type": "stream",
     "text": [
      "(array([2], dtype=int64),)\n",
      "(array([0, 2, 4, 6], dtype=int64),)\n",
      "(array([6, 7], dtype=int64),)\n"
     ]
    }
   ],
   "source": [
    "arr = np.array([0,1,2,3,4,5,6,7])\n",
    "item = np.where(arr==2)\n",
    "print(item)\n",
    "\n",
    "items = np.where(arr%2==0)\n",
    "print(items)\n",
    "\n",
    "items = np.where(arr>5)\n",
    "print(items)"
   ]
  },
  {
   "cell_type": "code",
   "execution_count": 62,
   "id": "269e5363",
   "metadata": {},
   "outputs": [
    {
     "name": "stdout",
     "output_type": "stream",
     "text": [
      "5\n",
      "4\n",
      "4\n"
     ]
    }
   ],
   "source": [
    "arr = np.array([0,1,2,3,4,5,6,7])\n",
    "\n",
    "index = np.searchsorted(arr,5)\n",
    "print(index)\n",
    "\n",
    "arr = np.array([15,3,4,1,9,10,6,5])\n",
    "index = np.searchsorted(arr,5)\n",
    "print(index)\n",
    "index = np.searchsorted(arr,5,side='right')\n",
    "print(index)"
   ]
  },
  {
   "cell_type": "code",
   "execution_count": null,
   "id": "f0ffe38c",
   "metadata": {},
   "outputs": [],
   "source": []
  }
 ],
 "metadata": {
  "kernelspec": {
   "display_name": "Python 3 (ipykernel)",
   "language": "python",
   "name": "python3"
  },
  "language_info": {
   "codemirror_mode": {
    "name": "ipython",
    "version": 3
   },
   "file_extension": ".py",
   "mimetype": "text/x-python",
   "name": "python",
   "nbconvert_exporter": "python",
   "pygments_lexer": "ipython3",
   "version": "3.8.8"
  }
 },
 "nbformat": 4,
 "nbformat_minor": 5
}
