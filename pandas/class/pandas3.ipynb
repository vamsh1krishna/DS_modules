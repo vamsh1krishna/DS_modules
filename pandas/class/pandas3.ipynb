{
 "cells": [
  {
   "cell_type": "markdown",
   "metadata": {},
   "source": [
    "working with text data\n",
    "-----------------------"
   ]
  },
  {
   "cell_type": "code",
   "execution_count": 2,
   "metadata": {},
   "outputs": [],
   "source": [
    "import pandas as pd\n",
    "netflix_titles=pd.read_csv(r'netflix_titles.csv')"
   ]
  },
  {
   "cell_type": "code",
   "execution_count": 8,
   "metadata": {},
   "outputs": [
    {
     "name": "stdout",
     "output_type": "stream",
     "text": [
      "['Dick Johnson Is Dead' 'Blood & Water' 'Ganglands'\n",
      " 'Jailbirds New Orleans' 'Kota Factory']\n",
      "<pandas.core.strings.accessor.StringMethods object at 0x0000020C43C41460>\n",
      "<pandas.core.strings.accessor.StringMethods object at 0x0000020C43C41A90>\n"
     ]
    }
   ],
   "source": [
    "print(netflix_titles['title'].head().values)\n",
    "print(netflix_titles['title'].head().str)\n",
    "print(netflix_titles['title'].str)"
   ]
  },
  {
   "cell_type": "code",
   "execution_count": 9,
   "metadata": {},
   "outputs": [
    {
     "data": {
      "text/plain": [
       "0        Dick Johnson Is Dead\n",
       "1               Blood & Water\n",
       "2                   Ganglands\n",
       "3       Jailbirds New Orleans\n",
       "4                Kota Factory\n",
       "                ...          \n",
       "8802                   Zodiac\n",
       "8803              Zombie Dumb\n",
       "8804               Zombieland\n",
       "8805                     Zoom\n",
       "8806                   Zubaan\n",
       "Name: title, Length: 8807, dtype: object"
      ]
     },
     "execution_count": 9,
     "metadata": {},
     "output_type": "execute_result"
    }
   ],
   "source": [
    "netflix_titles['title'].str.strip()"
   ]
  },
  {
   "cell_type": "code",
   "execution_count": 12,
   "metadata": {},
   "outputs": [
    {
     "data": {
      "text/plain": [
       "0        dick johnson is dead\n",
       "1               blood & water\n",
       "2                   ganglands\n",
       "3       jailbirds new orleans\n",
       "4                kota factory\n",
       "                ...          \n",
       "8802                   zodiac\n",
       "8803              zombie dumb\n",
       "8804               zombieland\n",
       "8805                     zoom\n",
       "8806                   zubaan\n",
       "Name: title, Length: 8807, dtype: object"
      ]
     },
     "execution_count": 12,
     "metadata": {},
     "output_type": "execute_result"
    }
   ],
   "source": [
    "netflix_titles['title'].str.lower()"
   ]
  },
  {
   "cell_type": "code",
   "execution_count": 11,
   "metadata": {},
   "outputs": [
    {
     "data": {
      "text/plain": [
       "0        DICK JOHNSON IS DEAD\n",
       "1               BLOOD & WATER\n",
       "2                   GANGLANDS\n",
       "3       JAILBIRDS NEW ORLEANS\n",
       "4                KOTA FACTORY\n",
       "                ...          \n",
       "8802                   ZODIAC\n",
       "8803              ZOMBIE DUMB\n",
       "8804               ZOMBIELAND\n",
       "8805                     ZOOM\n",
       "8806                   ZUBAAN\n",
       "Name: title, Length: 8807, dtype: object"
      ]
     },
     "execution_count": 11,
     "metadata": {},
     "output_type": "execute_result"
    }
   ],
   "source": [
    "netflix_titles['title'].str.upper()"
   ]
  },
  {
   "cell_type": "markdown",
   "metadata": {},
   "source": [
    "work with Boolean\n",
    "------------------"
   ]
  },
  {
   "cell_type": "code",
   "execution_count": 20,
   "metadata": {},
   "outputs": [
    {
     "data": {
      "text/html": [
       "<div>\n",
       "<style scoped>\n",
       "    .dataframe tbody tr th:only-of-type {\n",
       "        vertical-align: middle;\n",
       "    }\n",
       "\n",
       "    .dataframe tbody tr th {\n",
       "        vertical-align: top;\n",
       "    }\n",
       "\n",
       "    .dataframe thead th {\n",
       "        text-align: right;\n",
       "    }\n",
       "</style>\n",
       "<table border=\"1\" class=\"dataframe\">\n",
       "  <thead>\n",
       "    <tr style=\"text-align: right;\">\n",
       "      <th></th>\n",
       "      <th>show_id</th>\n",
       "      <th>type</th>\n",
       "      <th>title</th>\n",
       "      <th>director</th>\n",
       "      <th>cast</th>\n",
       "      <th>country</th>\n",
       "      <th>date_added</th>\n",
       "      <th>release_year</th>\n",
       "      <th>rating</th>\n",
       "      <th>duration</th>\n",
       "      <th>listed_in</th>\n",
       "      <th>description</th>\n",
       "    </tr>\n",
       "  </thead>\n",
       "  <tbody>\n",
       "    <tr>\n",
       "      <th>1</th>\n",
       "      <td>s2</td>\n",
       "      <td>TV Show</td>\n",
       "      <td>Blood &amp; Water</td>\n",
       "      <td>NaN</td>\n",
       "      <td>Ama Qamata, Khosi Ngema, Gail Mabalane, Thaban...</td>\n",
       "      <td>South Africa</td>\n",
       "      <td>September 24, 2021</td>\n",
       "      <td>2021</td>\n",
       "      <td>TV-MA</td>\n",
       "      <td>2 Seasons</td>\n",
       "      <td>International TV Shows, TV Dramas, TV Mysteries</td>\n",
       "      <td>After crossing paths at a party, a Cape Town t...</td>\n",
       "    </tr>\n",
       "    <tr>\n",
       "      <th>56</th>\n",
       "      <td>s57</td>\n",
       "      <td>Movie</td>\n",
       "      <td>Naruto Shippuden the Movie: Blood Prison</td>\n",
       "      <td>Masahiko Murata</td>\n",
       "      <td>Junko Takeuchi, Chie Nakamura, Rikiya Koyama, ...</td>\n",
       "      <td>Japan</td>\n",
       "      <td>September 15, 2021</td>\n",
       "      <td>2011</td>\n",
       "      <td>TV-14</td>\n",
       "      <td>102 min</td>\n",
       "      <td>Action &amp; Adventure, Anime Features, Internatio...</td>\n",
       "      <td>Mistakenly accused of an attack on the Fourth ...</td>\n",
       "    </tr>\n",
       "    <tr>\n",
       "      <th>88</th>\n",
       "      <td>s89</td>\n",
       "      <td>Movie</td>\n",
       "      <td>Blood Brothers: Malcolm X &amp; Muhammad Ali</td>\n",
       "      <td>Marcus Clarke</td>\n",
       "      <td>Malcolm X, Muhammad Ali</td>\n",
       "      <td>NaN</td>\n",
       "      <td>September 9, 2021</td>\n",
       "      <td>2021</td>\n",
       "      <td>PG-13</td>\n",
       "      <td>96 min</td>\n",
       "      <td>Documentaries, Sports Movies</td>\n",
       "      <td>From a chance meeting to a tragic fallout, Mal...</td>\n",
       "    </tr>\n",
       "    <tr>\n",
       "      <th>396</th>\n",
       "      <td>s397</td>\n",
       "      <td>Movie</td>\n",
       "      <td>Blood Red Sky</td>\n",
       "      <td>Peter Thorwarth</td>\n",
       "      <td>Peri Baumeister, Alexander Scheer, Kais Setti,...</td>\n",
       "      <td>NaN</td>\n",
       "      <td>July 23, 2021</td>\n",
       "      <td>2021</td>\n",
       "      <td>TV-MA</td>\n",
       "      <td>123 min</td>\n",
       "      <td>Action &amp; Adventure, Horror Movies, Internation...</td>\n",
       "      <td>When a group of terrorists hijacks an overnigh...</td>\n",
       "    </tr>\n",
       "    <tr>\n",
       "      <th>1168</th>\n",
       "      <td>s1169</td>\n",
       "      <td>TV Show</td>\n",
       "      <td>DOTA: Dragon's Blood</td>\n",
       "      <td>NaN</td>\n",
       "      <td>Yuri Lowenthal, Lara Pulver, Kari Wahlgren, Al...</td>\n",
       "      <td>United States</td>\n",
       "      <td>March 25, 2021</td>\n",
       "      <td>2021</td>\n",
       "      <td>TV-MA</td>\n",
       "      <td>1 Season</td>\n",
       "      <td>Anime Series</td>\n",
       "      <td>A conflicted yet courageous Dragon Knight must...</td>\n",
       "    </tr>\n",
       "  </tbody>\n",
       "</table>\n",
       "</div>"
      ],
      "text/plain": [
       "     show_id     type                                     title  \\\n",
       "1         s2  TV Show                             Blood & Water   \n",
       "56       s57    Movie  Naruto Shippuden the Movie: Blood Prison   \n",
       "88       s89    Movie  Blood Brothers: Malcolm X & Muhammad Ali   \n",
       "396     s397    Movie                             Blood Red Sky   \n",
       "1168   s1169  TV Show                      DOTA: Dragon's Blood   \n",
       "\n",
       "             director                                               cast  \\\n",
       "1                 NaN  Ama Qamata, Khosi Ngema, Gail Mabalane, Thaban...   \n",
       "56    Masahiko Murata  Junko Takeuchi, Chie Nakamura, Rikiya Koyama, ...   \n",
       "88      Marcus Clarke                            Malcolm X, Muhammad Ali   \n",
       "396   Peter Thorwarth  Peri Baumeister, Alexander Scheer, Kais Setti,...   \n",
       "1168              NaN  Yuri Lowenthal, Lara Pulver, Kari Wahlgren, Al...   \n",
       "\n",
       "            country          date_added  release_year rating   duration  \\\n",
       "1      South Africa  September 24, 2021          2021  TV-MA  2 Seasons   \n",
       "56            Japan  September 15, 2021          2011  TV-14    102 min   \n",
       "88              NaN   September 9, 2021          2021  PG-13     96 min   \n",
       "396             NaN       July 23, 2021          2021  TV-MA    123 min   \n",
       "1168  United States      March 25, 2021          2021  TV-MA   1 Season   \n",
       "\n",
       "                                              listed_in  \\\n",
       "1       International TV Shows, TV Dramas, TV Mysteries   \n",
       "56    Action & Adventure, Anime Features, Internatio...   \n",
       "88                         Documentaries, Sports Movies   \n",
       "396   Action & Adventure, Horror Movies, Internation...   \n",
       "1168                                       Anime Series   \n",
       "\n",
       "                                            description  \n",
       "1     After crossing paths at a party, a Cape Town t...  \n",
       "56    Mistakenly accused of an attack on the Fourth ...  \n",
       "88    From a chance meeting to a tragic fallout, Mal...  \n",
       "396   When a group of terrorists hijacks an overnigh...  \n",
       "1168  A conflicted yet courageous Dragon Knight must...  "
      ]
     },
     "execution_count": 20,
     "metadata": {},
     "output_type": "execute_result"
    }
   ],
   "source": [
    "does_title_has_blood = netflix_titles['title'].str.lower().str.contains('blood')\n",
    "netflix_titles[does_title_has_blood].head()"
   ]
  },
  {
   "cell_type": "code",
   "execution_count": null,
   "metadata": {},
   "outputs": [],
   "source": []
  }
 ],
 "metadata": {
  "kernelspec": {
   "display_name": "Python 3.8.8 ('base')",
   "language": "python",
   "name": "python3"
  },
  "language_info": {
   "codemirror_mode": {
    "name": "ipython",
    "version": 3
   },
   "file_extension": ".py",
   "mimetype": "text/x-python",
   "name": "python",
   "nbconvert_exporter": "python",
   "pygments_lexer": "ipython3",
   "version": "3.8.8"
  },
  "orig_nbformat": 4,
  "vscode": {
   "interpreter": {
    "hash": "5e03e0b258f59d5e98d856cff4fd410e0f49e730619ed276ea5af34a69bf7e47"
   }
  }
 },
 "nbformat": 4,
 "nbformat_minor": 2
}
