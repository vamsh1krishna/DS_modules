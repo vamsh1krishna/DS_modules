{
 "cells": [
  {
   "cell_type": "markdown",
   "metadata": {},
   "source": [
    "Estimates of variability\n",
    "------------------------\n",
    "* Location is just one dimension in summarizing a feture, A second dimension variability, also referred to as dispersion, measures whether the data values are tightly clustered or spread out.\n",
    "* At the heart of statstics:\n",
    "    * Measuring it\n",
    "    * reducing it\n",
    "    * Distinguish random from real variability\n",
    "    * Identifying various sources of real variability\n",
    "    * making decisions in the prescence of it"
   ]
  },
  {
   "cell_type": "code",
   "execution_count": 1,
   "metadata": {},
   "outputs": [
    {
     "data": {
      "text/html": [
       "<div>\n",
       "<style scoped>\n",
       "    .dataframe tbody tr th:only-of-type {\n",
       "        vertical-align: middle;\n",
       "    }\n",
       "\n",
       "    .dataframe tbody tr th {\n",
       "        vertical-align: top;\n",
       "    }\n",
       "\n",
       "    .dataframe thead th {\n",
       "        text-align: right;\n",
       "    }\n",
       "</style>\n",
       "<table border=\"1\" class=\"dataframe\">\n",
       "  <thead>\n",
       "    <tr style=\"text-align: right;\">\n",
       "      <th></th>\n",
       "      <th>State</th>\n",
       "      <th>Population</th>\n",
       "      <th>Murder Rate</th>\n",
       "      <th>Abbreviation</th>\n",
       "    </tr>\n",
       "  </thead>\n",
       "  <tbody>\n",
       "    <tr>\n",
       "      <th>0</th>\n",
       "      <td>Alabama</td>\n",
       "      <td>4779736</td>\n",
       "      <td>5.7</td>\n",
       "      <td>AL</td>\n",
       "    </tr>\n",
       "    <tr>\n",
       "      <th>1</th>\n",
       "      <td>Alaska</td>\n",
       "      <td>710231</td>\n",
       "      <td>5.6</td>\n",
       "      <td>AK</td>\n",
       "    </tr>\n",
       "    <tr>\n",
       "      <th>2</th>\n",
       "      <td>Arizona</td>\n",
       "      <td>6392017</td>\n",
       "      <td>4.7</td>\n",
       "      <td>AZ</td>\n",
       "    </tr>\n",
       "    <tr>\n",
       "      <th>3</th>\n",
       "      <td>Arkansas</td>\n",
       "      <td>2915918</td>\n",
       "      <td>5.6</td>\n",
       "      <td>AR</td>\n",
       "    </tr>\n",
       "    <tr>\n",
       "      <th>4</th>\n",
       "      <td>California</td>\n",
       "      <td>37253956</td>\n",
       "      <td>4.4</td>\n",
       "      <td>CA</td>\n",
       "    </tr>\n",
       "    <tr>\n",
       "      <th>5</th>\n",
       "      <td>Colorado</td>\n",
       "      <td>5029196</td>\n",
       "      <td>2.8</td>\n",
       "      <td>CO</td>\n",
       "    </tr>\n",
       "    <tr>\n",
       "      <th>6</th>\n",
       "      <td>Connectiut</td>\n",
       "      <td>3574097</td>\n",
       "      <td>2.4</td>\n",
       "      <td>CT</td>\n",
       "    </tr>\n",
       "    <tr>\n",
       "      <th>7</th>\n",
       "      <td>Delaware</td>\n",
       "      <td>897934</td>\n",
       "      <td>5.8</td>\n",
       "      <td>DE</td>\n",
       "    </tr>\n",
       "  </tbody>\n",
       "</table>\n",
       "</div>"
      ],
      "text/plain": [
       "        State  Population  Murder Rate Abbreviation\n",
       "0     Alabama     4779736          5.7           AL\n",
       "1      Alaska      710231          5.6           AK\n",
       "2     Arizona     6392017          4.7           AZ\n",
       "3    Arkansas     2915918          5.6           AR\n",
       "4  California    37253956          4.4           CA\n",
       "5    Colorado     5029196          2.8           CO\n",
       "6  Connectiut     3574097          2.4           CT\n",
       "7    Delaware      897934          5.8           DE"
      ]
     },
     "execution_count": 1,
     "metadata": {},
     "output_type": "execute_result"
    }
   ],
   "source": [
    "import pandas as pd\n",
    "state_df = pd.read_csv('data/murderrate.csv')\n",
    "state_df"
   ]
  },
  {
   "cell_type": "code",
   "execution_count": 3,
   "metadata": {},
   "outputs": [
    {
     "data": {
      "text/plain": [
       "12105745.29585633"
      ]
     },
     "execution_count": 3,
     "metadata": {},
     "output_type": "execute_result"
    }
   ],
   "source": [
    "# standard deviation\n",
    "state_df['Population'].std()"
   ]
  },
  {
   "cell_type": "code",
   "execution_count": 4,
   "metadata": {},
   "outputs": [
    {
     "data": {
      "text/plain": [
       "2958479.25"
      ]
     },
     "execution_count": 4,
     "metadata": {},
     "output_type": "execute_result"
    }
   ],
   "source": [
    "## Lets calculate inter quarter range (distance between 75 percentile and 25 percentile) IQR\n",
    "state_df['Population'].quantile(0.75) -state_df['Population'].quantile(0.25)"
   ]
  },
  {
   "cell_type": "code",
   "execution_count": 21,
   "metadata": {},
   "outputs": [
    {
     "name": "stdout",
     "output_type": "stream",
     "text": [
      "    name  score\n",
      "0  test1      3\n",
      "1  test2      5\n",
      "2  test3      7\n",
      "3  test4      9\n",
      "4  test5     12\n",
      "5  test6     21\n",
      "6  test7     25\n",
      "7  test8     30\n",
      "standard deviation : 10.042765697612529\n",
      "IQR : 15.5\n"
     ]
    }
   ],
   "source": [
    "# For the scores of the students 3,5,7,9,12,21,25,30 calculate 25th percentile\n",
    "dic = {}\n",
    "dic['name'] = ['test1','test2','test3','test4','test5','test6','test7']\n",
    "dic['score'] = [3,5,7,9,12,21,25,30]\n",
    "results = pd.DataFrame({\n",
    "    'name' : ['test1','test2','test3','test4','test5','test6','test7','test8'],\n",
    "    'score' : [3,5,7,9,12,21,25,30]\n",
    "})\n",
    "print(results)\n",
    "# std\n",
    "print(f\"standard deviation : {results['score'].std()}\")\n",
    "#IQR\n",
    "print(f\"IQR : {results['score'].quantile(0.75)-results['score'].quantile(0.25)}\")\n"
   ]
  },
  {
   "cell_type": "code",
   "execution_count": 22,
   "metadata": {},
   "outputs": [
    {
     "name": "stdout",
     "output_type": "stream",
     "text": [
      "0    90\n",
      "1    93\n",
      "2    85\n",
      "3    87\n",
      "4    95\n",
      "5    92\n",
      "6    97\n",
      "7    81\n",
      "8    85\n",
      "9    82\n",
      "Name: gpa, dtype: int64\n",
      "standard deviation : 5.518655230720213\n",
      "IQR : 7.75\n"
     ]
    }
   ],
   "source": [
    "students_df = pd.read_csv('data/studentsdataset.csv')\n",
    "print(students_df['gpa'])\n",
    "# std\n",
    "print(f\"standard deviation : {students_df['gpa'].std()}\")\n",
    "#IQR\n",
    "print(f\"IQR : {students_df['gpa'].quantile(0.75)-students_df['gpa'].quantile(0.25)}\")"
   ]
  },
  {
   "cell_type": "markdown",
   "metadata": {},
   "source": [
    "Exploring the Data Distribution\n",
    "-------------------------------\n",
    "* Each of the estimates we’ve covered sum up the data in a single number to descirbe the location or variablility.\n",
    "* It is also useful to explore how the data is distributed overall"
   ]
  },
  {
   "cell_type": "markdown",
   "metadata": {},
   "source": [
    "![Preview](./Images/ds10.png)\n",
    "![Preview](./Images/ds11.png)\n",
    "![Preview](./Images/ds12.png)\n"
   ]
  },
  {
   "cell_type": "code",
   "execution_count": null,
   "metadata": {},
   "outputs": [],
   "source": []
  }
 ],
 "metadata": {
  "interpreter": {
   "hash": "5f4e3b22efeece7a53e8731080df76789e0d222fcf0863e0edc1ac6607c28f52"
  },
  "kernelspec": {
   "display_name": "Python 3.8.8 ('base')",
   "language": "python",
   "name": "python3"
  },
  "language_info": {
   "codemirror_mode": {
    "name": "ipython",
    "version": 3
   },
   "file_extension": ".py",
   "mimetype": "text/x-python",
   "name": "python",
   "nbconvert_exporter": "python",
   "pygments_lexer": "ipython3",
   "version": "3.8.8"
  },
  "orig_nbformat": 4
 },
 "nbformat": 4,
 "nbformat_minor": 2
}
