{
 "cells": [
  {
   "cell_type": "code",
   "execution_count": 2,
   "metadata": {},
   "outputs": [],
   "source": [
    "import numpy as np\n",
    "import matplotlib as plt\n",
    "import scipy "
   ]
  },
  {
   "cell_type": "markdown",
   "metadata": {},
   "source": [
    "numpy absolute, changes neagtive values into absolute quantities"
   ]
  },
  {
   "cell_type": "code",
   "execution_count": 3,
   "metadata": {},
   "outputs": [
    {
     "data": {
      "text/plain": [
       "1"
      ]
     },
     "execution_count": 3,
     "metadata": {},
     "output_type": "execute_result"
    }
   ],
   "source": [
    "np.abs(-1)"
   ]
  },
  {
   "cell_type": "markdown",
   "metadata": {},
   "source": [
    "Concatenate by rows"
   ]
  },
  {
   "cell_type": "code",
   "execution_count": 4,
   "metadata": {},
   "outputs": [
    {
     "data": {
      "text/plain": [
       "array([3, 0, 0, 0, 0, 0])"
      ]
     },
     "execution_count": 4,
     "metadata": {},
     "output_type": "execute_result"
    }
   ],
   "source": [
    "a=np.concatenate(([3],[0]*5))\n",
    "a"
   ]
  },
  {
   "cell_type": "code",
   "execution_count": 5,
   "metadata": {},
   "outputs": [
    {
     "data": {
      "text/plain": [
       "array([3, 0, 0, 0, 0, 0])"
      ]
     },
     "execution_count": 5,
     "metadata": {},
     "output_type": "execute_result"
    }
   ],
   "source": [
    "np.r_[3,[0]*5]"
   ]
  },
  {
   "cell_type": "code",
   "execution_count": 6,
   "metadata": {},
   "outputs": [
    {
     "data": {
      "text/plain": [
       "array([1, 2, 3, 4, 5, 6])"
      ]
     },
     "execution_count": 6,
     "metadata": {},
     "output_type": "execute_result"
    }
   ],
   "source": [
    "np.r_[np.array([1,2,3]), np.array([4,5,6])]"
   ]
  },
  {
   "cell_type": "markdown",
   "metadata": {},
   "source": [
    "Concatenate by columns"
   ]
  },
  {
   "cell_type": "code",
   "execution_count": 7,
   "metadata": {},
   "outputs": [
    {
     "data": {
      "text/plain": [
       "array([[1, 4],\n",
       "       [2, 5],\n",
       "       [3, 6]])"
      ]
     },
     "execution_count": 7,
     "metadata": {},
     "output_type": "execute_result"
    }
   ],
   "source": [
    "np.c_[np.array([1,2,3]), np.array([4,5,6])]"
   ]
  },
  {
   "cell_type": "markdown",
   "metadata": {},
   "source": [
    "Slicing Matrices"
   ]
  },
  {
   "cell_type": "code",
   "execution_count": 8,
   "metadata": {},
   "outputs": [
    {
     "data": {
      "text/plain": [
       "array([[[0, 0, 0],\n",
       "        [1, 1, 1],\n",
       "        [2, 2, 2],\n",
       "        [3, 3, 3],\n",
       "        [4, 4, 4],\n",
       "        [5, 5, 5]],\n",
       "\n",
       "       [[0, 1, 2],\n",
       "        [0, 1, 2],\n",
       "        [0, 1, 2],\n",
       "        [0, 1, 2],\n",
       "        [0, 1, 2],\n",
       "        [0, 1, 2]]])"
      ]
     },
     "execution_count": 8,
     "metadata": {},
     "output_type": "execute_result"
    }
   ],
   "source": [
    "a = np.mgrid[0:6,0:3]\n",
    "a"
   ]
  },
  {
   "cell_type": "code",
   "execution_count": 9,
   "metadata": {},
   "outputs": [
    {
     "data": {
      "text/plain": [
       "array([[[1, 1, 1],\n",
       "        [2, 2, 2],\n",
       "        [3, 3, 3]],\n",
       "\n",
       "       [[0, 1, 2],\n",
       "        [0, 1, 2],\n",
       "        [0, 1, 2]]])"
      ]
     },
     "execution_count": 9,
     "metadata": {},
     "output_type": "execute_result"
    }
   ],
   "source": [
    "a[:,1:4]"
   ]
  },
  {
   "cell_type": "code",
   "execution_count": 10,
   "metadata": {},
   "outputs": [],
   "source": [
    "from numpy import poly1d"
   ]
  },
  {
   "cell_type": "markdown",
   "metadata": {},
   "source": [
    "Poly 1d"
   ]
  },
  {
   "cell_type": "code",
   "execution_count": 11,
   "metadata": {},
   "outputs": [
    {
     "name": "stdout",
     "output_type": "stream",
     "text": [
      "   2\n",
      "3 x + 4 x + 5\n"
     ]
    }
   ],
   "source": [
    "p = poly1d([3,4,5])\n",
    "print(p)"
   ]
  },
  {
   "cell_type": "code",
   "execution_count": 12,
   "metadata": {},
   "outputs": [
    {
     "name": "stdout",
     "output_type": "stream",
     "text": [
      "   4      3      2\n",
      "9 x + 24 x + 46 x + 40 x + 25\n"
     ]
    }
   ],
   "source": [
    "print(p*p)"
   ]
  },
  {
   "cell_type": "code",
   "execution_count": 13,
   "metadata": {},
   "outputs": [
    {
     "name": "stdout",
     "output_type": "stream",
     "text": [
      "   3     2\n",
      "1 x + 2 x + 5 x + 6\n"
     ]
    }
   ],
   "source": [
    "print(p.integ(k=6))"
   ]
  },
  {
   "cell_type": "markdown",
   "metadata": {},
   "source": [
    "$$\\int_{}  3x^2 + 4x + 5) = x^3 + 2x^2 + 5x +6$$ \n",
    "6 because constant(k)=6"
   ]
  },
  {
   "cell_type": "code",
   "execution_count": 14,
   "metadata": {},
   "outputs": [
    {
     "name": "stdout",
     "output_type": "stream",
     "text": [
      " \n",
      "6 x + 4\n"
     ]
    }
   ],
   "source": [
    "print(p.deriv())"
   ]
  },
  {
   "cell_type": "code",
   "execution_count": 15,
   "metadata": {},
   "outputs": [
    {
     "data": {
      "text/plain": [
       "poly1d([4, 6, 6])"
      ]
     },
     "execution_count": 15,
     "metadata": {},
     "output_type": "execute_result"
    }
   ],
   "source": [
    "#[3,4,5] + [1,2,1]\n",
    "poly1d([3,4,5]) + poly1d([1,2,1])"
   ]
  },
  {
   "cell_type": "code",
   "execution_count": 16,
   "metadata": {},
   "outputs": [],
   "source": [
    "def add(a,b):\n",
    "    return a+b"
   ]
  },
  {
   "cell_type": "code",
   "execution_count": 17,
   "metadata": {},
   "outputs": [
    {
     "data": {
      "text/plain": [
       "5"
      ]
     },
     "execution_count": 17,
     "metadata": {},
     "output_type": "execute_result"
    }
   ],
   "source": [
    "add(2,3)"
   ]
  },
  {
   "cell_type": "markdown",
   "metadata": {},
   "source": [
    "we cannot add arrays in this method because python cancatenates "
   ]
  },
  {
   "cell_type": "code",
   "execution_count": 18,
   "metadata": {},
   "outputs": [
    {
     "data": {
      "text/plain": [
       "[1, 2, 3, 4]"
      ]
     },
     "execution_count": 18,
     "metadata": {},
     "output_type": "execute_result"
    }
   ],
   "source": [
    "add([1,2],[3,4])"
   ]
  },
  {
   "cell_type": "markdown",
   "metadata": {},
   "source": [
    "So we vectorize function  \n",
    "vec_add = np.vectorize(pyfunction)"
   ]
  },
  {
   "cell_type": "code",
   "execution_count": 19,
   "metadata": {},
   "outputs": [],
   "source": [
    "vec_add = np.vectorize(add)"
   ]
  },
  {
   "cell_type": "code",
   "execution_count": 20,
   "metadata": {},
   "outputs": [
    {
     "data": {
      "text/plain": [
       "array([4, 6])"
      ]
     },
     "execution_count": 20,
     "metadata": {},
     "output_type": "execute_result"
    }
   ],
   "source": [
    "vec_add([1,2],[3,4])"
   ]
  },
  {
   "cell_type": "code",
   "execution_count": 21,
   "metadata": {},
   "outputs": [],
   "source": [
    "def vectorize_add(a,b):\n",
    "    c=[]\n",
    "    for k in range(0,len(a)):\n",
    "        c.append(a[k]+b[k])\n",
    "    return c"
   ]
  },
  {
   "cell_type": "code",
   "execution_count": 22,
   "metadata": {},
   "outputs": [
    {
     "data": {
      "text/plain": [
       "[4, 6]"
      ]
     },
     "execution_count": 22,
     "metadata": {},
     "output_type": "execute_result"
    }
   ],
   "source": [
    "vectorize_add([1,2],[3,4])"
   ]
  },
  {
   "cell_type": "code",
   "execution_count": 23,
   "metadata": {},
   "outputs": [
    {
     "data": {
      "text/plain": [
       "list"
      ]
     },
     "execution_count": 23,
     "metadata": {},
     "output_type": "execute_result"
    }
   ],
   "source": [
    "type(vectorize_add([1,2],[3,4]))"
   ]
  },
  {
   "cell_type": "markdown",
   "metadata": {},
   "source": [
    "SCIPY SPECIAL FUNCTION"
   ]
  },
  {
   "cell_type": "markdown",
   "metadata": {},
   "source": [
    "Airy Functions\n",
    "$$ y^n(x) = xy(x)  $$\n",
    "$$ Ai(z)= \\frac{1}{pi\\sqrt{3}}K_\\frac{1}{3}(t)$$\n",
    "$$ Bi(z) =\\sqrt{\\frac{z}{3}}(I_\\frac{-1}{3}(t)+I_\\frac{1}{3}(t)) $$\n",
    "$$ t= \\frac{2z^{\\frac{3}{2}}}{3}$$\n",
    "$$x^2 y^n + xy^{'} - (x^2 + \\frac{1}{9})y = 0$$\n"
   ]
  },
  {
   "cell_type": "code",
   "execution_count": 24,
   "metadata": {},
   "outputs": [],
   "source": [
    "from scipy import special"
   ]
  },
  {
   "cell_type": "code",
   "execution_count": 25,
   "metadata": {},
   "outputs": [
    {
     "data": {
      "text/plain": [
       "array([-15. , -14.9, -14.8, -14.7, -14.6, -14.5, -14.4, -14.3, -14.2,\n",
       "       -14.1, -14. , -13.9, -13.8, -13.7, -13.6, -13.5, -13.4, -13.3,\n",
       "       -13.2, -13.1, -13. , -12.9, -12.8, -12.7, -12.6, -12.5, -12.4,\n",
       "       -12.3, -12.2, -12.1, -12. , -11.9, -11.8, -11.7, -11.6, -11.5,\n",
       "       -11.4, -11.3, -11.2, -11.1, -11. , -10.9, -10.8, -10.7, -10.6,\n",
       "       -10.5, -10.4, -10.3, -10.2, -10.1, -10. ,  -9.9,  -9.8,  -9.7,\n",
       "        -9.6,  -9.5,  -9.4,  -9.3,  -9.2,  -9.1,  -9. ,  -8.9,  -8.8,\n",
       "        -8.7,  -8.6,  -8.5,  -8.4,  -8.3,  -8.2,  -8.1,  -8. ,  -7.9,\n",
       "        -7.8,  -7.7,  -7.6,  -7.5,  -7.4,  -7.3,  -7.2,  -7.1,  -7. ,\n",
       "        -6.9,  -6.8,  -6.7,  -6.6,  -6.5,  -6.4,  -6.3,  -6.2,  -6.1,\n",
       "        -6. ,  -5.9,  -5.8,  -5.7,  -5.6,  -5.5,  -5.4,  -5.3,  -5.2,\n",
       "        -5.1,  -5. ,  -4.9,  -4.8,  -4.7,  -4.6,  -4.5,  -4.4,  -4.3,\n",
       "        -4.2,  -4.1,  -4. ,  -3.9,  -3.8,  -3.7,  -3.6,  -3.5,  -3.4,\n",
       "        -3.3,  -3.2,  -3.1,  -3. ,  -2.9,  -2.8,  -2.7,  -2.6,  -2.5,\n",
       "        -2.4,  -2.3,  -2.2,  -2.1,  -2. ,  -1.9,  -1.8,  -1.7,  -1.6,\n",
       "        -1.5,  -1.4,  -1.3,  -1.2,  -1.1,  -1. ,  -0.9,  -0.8,  -0.7,\n",
       "        -0.6,  -0.5,  -0.4,  -0.3,  -0.2,  -0.1,   0. ,   0.1,   0.2,\n",
       "         0.3,   0.4,   0.5,   0.6,   0.7,   0.8,   0.9,   1. ,   1.1,\n",
       "         1.2,   1.3,   1.4,   1.5,   1.6,   1.7,   1.8,   1.9,   2. ,\n",
       "         2.1,   2.2,   2.3,   2.4,   2.5,   2.6,   2.7,   2.8,   2.9,\n",
       "         3. ,   3.1,   3.2,   3.3,   3.4,   3.5,   3.6,   3.7,   3.8,\n",
       "         3.9,   4. ,   4.1,   4.2,   4.3,   4.4,   4.5,   4.6,   4.7,\n",
       "         4.8,   4.9,   5. ])"
      ]
     },
     "execution_count": 25,
     "metadata": {},
     "output_type": "execute_result"
    }
   ],
   "source": [
    "x = np.linspace(-15,5,201)\n",
    "x"
   ]
  },
  {
   "cell_type": "code",
   "execution_count": 26,
   "metadata": {},
   "outputs": [
    {
     "data": {
      "text/plain": [
       "(array([ 2.78217491e-01,  2.84219508e-01,  2.48393529e-01,  1.76247386e-01,\n",
       "         7.84944011e-02, -3.05974189e-02, -1.35323956e-01, -2.20812568e-01,\n",
       "        -2.75111234e-01, -2.90810085e-01, -2.65983483e-01, -2.04344332e-01,\n",
       "        -1.14616074e-01, -9.23544697e-03,  9.74138904e-02,  1.90981243e-01,\n",
       "         2.59068470e-01,  2.92835007e-01,  2.88086678e-01,  2.45723407e-01,\n",
       "         1.71510439e-01,  7.52272786e-02, -3.06733238e-02, -1.32706919e-01,\n",
       "        -2.18080100e-01, -2.76274561e-01, -3.00299845e-01, -2.87472080e-01,\n",
       "        -2.39641096e-01, -1.62859454e-01, -6.65551751e-02,  3.76730243e-02,\n",
       "         1.37479554e-01,  2.21237809e-01,  2.79374549e-01,  3.05422970e-01,\n",
       "         2.96684512e-01,  2.54439825e-01,  1.83703674e-01,  9.25704336e-02,\n",
       "        -8.75958926e-03, -1.09151792e-01, -1.97769992e-01, -2.65233673e-01,\n",
       "        -3.04578465e-01, -3.11926035e-01, -2.86805456e-01, -2.32108019e-01,\n",
       "        -1.53696783e-01, -5.97268111e-02,  4.02412385e-02,  1.36235026e-01,\n",
       "         2.18867433e-01,  2.80237502e-01,  3.14651583e-01,  3.19103248e-01,\n",
       "         2.93477556e-01,  2.40473797e-01,  1.65268005e-01,  7.49598873e-02,\n",
       "        -2.21337215e-02, -1.17266306e-01, -2.02054447e-01, -2.69204541e-01,\n",
       "        -3.13112453e-01, -3.30290238e-01, -3.19592190e-01, -2.82231760e-01,\n",
       "        -2.21599455e-01, -1.42908147e-01, -5.27050504e-02,  4.17018836e-02,\n",
       "         1.32851545e-01,  2.13720374e-01,  2.78250235e-01,  3.21775716e-01,\n",
       "         3.41323752e-01,  3.35770371e-01,  3.05851523e-01,  2.54036329e-01,\n",
       "         1.84280835e-01,  1.01687998e-01,  1.21045243e-02, -7.83124718e-02,\n",
       "        -1.63526463e-01, -2.38020302e-01, -2.97137622e-01, -3.37347649e-01,\n",
       "        -3.56421074e-01, -3.53511676e-01, -3.29145174e-01, -2.85122780e-01,\n",
       "        -2.24351916e-01, -1.50620158e-01, -6.83306997e-02,  1.77815413e-02,\n",
       "         1.02934596e-01,  1.82567931e-01,  2.52580338e-01,  3.09525996e-01,\n",
       "         3.50761009e-01,  3.74536355e-01,  3.80036677e-01,  3.67367483e-01,\n",
       "         3.37495975e-01,  2.92152781e-01,  2.33703258e-01,  1.64997809e-01,\n",
       "         8.92107632e-02,  9.67697952e-03, -7.02655329e-02, -1.47419906e-01,\n",
       "        -2.18855976e-01, -2.82013062e-01, -3.34777477e-01, -3.75533823e-01,\n",
       "        -4.03190484e-01, -4.17180937e-01, -4.17443421e-01, -4.04382222e-01,\n",
       "        -3.78814294e-01, -3.41905096e-01, -2.95097593e-01, -2.40038110e-01,\n",
       "        -1.78502429e-01, -1.12325068e-01, -4.33341404e-02,  2.67063331e-02,\n",
       "         9.61453780e-02,  1.63484513e-01,  2.27407428e-01,  2.86800056e-01,\n",
       "         3.40761559e-01,  3.88607037e-01,  4.29862977e-01,  4.64256578e-01,\n",
       "         4.91700181e-01,  5.12272006e-01,  5.26194375e-01,  5.33810510e-01,\n",
       "         5.35560883e-01,  5.31959946e-01,  5.23573950e-01,  5.11000398e-01,\n",
       "         4.94849525e-01,  4.75728092e-01,  4.54225614e-01,  4.30903095e-01,\n",
       "         4.06284187e-01,  3.80848668e-01,  3.55028054e-01,  3.29203130e-01,\n",
       "         3.03703154e-01,  2.78806482e-01,  2.54742354e-01,  2.31693606e-01,\n",
       "         2.09800062e-01,  1.89162400e-01,  1.69846317e-01,  1.51886804e-01,\n",
       "         1.35292416e-01,  1.20049427e-01,  1.06125762e-01,  9.34746658e-02,\n",
       "         8.20380498e-02,  7.17494970e-02,  6.25369080e-02,  5.43247927e-02,\n",
       "         4.70362169e-02,  4.05944200e-02,  3.49241304e-02,  2.99526021e-02,\n",
       "         2.56104044e-02,  2.18319932e-02,  1.85560936e-02,  1.57259234e-02,\n",
       "         1.32892825e-02,  1.11985355e-02,  9.41050691e-03,  7.88631230e-03,\n",
       "         6.59113936e-03,  5.49399635e-03,  4.56743927e-03,  3.78728843e-03,\n",
       "         3.13234278e-03,  2.58409879e-03,  2.12647868e-03,  1.74557200e-03,\n",
       "         1.42939289e-03,  1.16765487e-03,  9.51563851e-04,  7.73629664e-04,\n",
       "         6.27495868e-04,  5.07787168e-04,  4.09973586e-04,  3.30250324e-04,\n",
       "         2.65432124e-04,  2.12860921e-04,  1.70325523e-04,  1.35992117e-04,\n",
       "         1.08344428e-04]),\n",
       " array([ 2.72374204e-01, -1.53359665e-01, -5.53822668e-01, -8.70963120e-01,\n",
       "        -1.05995568e+00, -1.09532127e+00, -9.74066501e-01, -7.15510290e-01,\n",
       "        -3.57953615e-01,  4.72115486e-02,  4.43024877e-01,  7.74997967e-01,\n",
       "         9.98538658e-01,  1.08476447e+00,  1.02397833e+00,  8.26432751e-01,\n",
       "         5.20393018e-01,  1.47871972e-01, -2.41299215e-01, -5.96212382e-01,\n",
       "        -8.71519678e-01, -1.03311002e+00, -1.06213548e+00, -9.56945391e-01,\n",
       "        -7.32775471e-01, -4.19331330e-01, -5.66632257e-02,  3.10078788e-01,\n",
       "         6.36312512e-01,  8.83402318e-01,  1.02311045e+00,  1.04062903e+00,\n",
       "         9.35897861e-01,  7.23133662e-01,  4.28711398e-01,  8.77241543e-02,\n",
       "        -2.60316898e-01, -5.76107620e-01, -8.24959550e-01, -9.80506150e-01,\n",
       "        -1.02732787e+00, -9.62260068e-01, -7.94307387e-01, -5.43245900e-01,\n",
       "        -2.37132067e-01,  9.09574874e-02,  4.06568840e-01,  6.77492830e-01,\n",
       "         8.76989980e-01,  9.86306837e-01,  9.96265044e-01,  9.07813332e-01,\n",
       "         7.31544864e-01,  4.86286291e-01,  1.96950442e-01, -1.08095319e-01,\n",
       "        -3.99862366e-01, -6.51492408e-01, -8.40671074e-01, -9.51496815e-01,\n",
       "        -9.75663981e-01, -9.12892757e-01, -7.70613010e-01, -5.62976850e-01,\n",
       "        -3.09330272e-01, -3.23133483e-02,  2.44220894e-01,  4.97276790e-01,\n",
       "         7.06598698e-01,  8.56218586e-01,  9.35560938e-01,  9.40042998e-01,\n",
       "         8.71155404e-01,  7.36052418e-01,  5.46718819e-01,  3.18809507e-01,\n",
       "         7.02763236e-02, -1.80095804e-01, -4.14124281e-01, -6.15528788e-01,\n",
       "        -7.71008168e-01, -8.71031059e-01, -9.10304005e-01, -8.87907965e-01,\n",
       "        -8.07119249e-01, -6.74952493e-01, -5.01479850e-01, -2.98991609e-01,\n",
       "        -8.10685562e-02,  1.38363937e-01,  3.45935487e-01,  5.29628573e-01,\n",
       "         6.79431520e-01,  7.87817225e-01,  8.50032560e-01,  8.64197218e-01,\n",
       "         8.31223072e-01,  7.54575420e-01,  6.39905167e-01,  4.94585998e-01,\n",
       "         3.27192819e-01,  1.46957427e-01, -3.67651043e-02, -2.14990180e-01,\n",
       "        -3.79533914e-01, -5.23362532e-01, -6.40850183e-01, -7.27940814e-01,\n",
       "        -7.82215608e-01, -8.02872535e-01, -7.90628575e-01, -7.47558086e-01,\n",
       "        -6.76882571e-01, -5.82727804e-01, -4.69863966e-01, -3.43443433e-01,\n",
       "        -2.08749050e-01, -7.09636172e-02,  6.50311470e-02,  1.94820446e-01,\n",
       "         3.14583769e-01,  4.21182812e-01,  5.12210982e-01,  5.86007200e-01,\n",
       "         6.41637987e-01,  6.78852734e-01,  6.98017602e-01,  7.00033663e-01,\n",
       "         6.86244825e-01,  6.58340693e-01,  6.18259021e-01,  5.68091717e-01,\n",
       "         5.09997628e-01,  4.46124555e-01,  3.78542192e-01,  3.09186967e-01,\n",
       "         2.39819120e-01,  1.71991807e-01,  1.07031569e-01,  4.60291547e-02,\n",
       "        -1.01605671e-02, -6.09109980e-02, -1.05809991e-01, -1.44641286e-01,\n",
       "        -1.77362599e-01, -2.04081670e-01, -2.25031409e-01, -2.40545127e-01,\n",
       "        -2.51032674e-01, -2.56958112e-01, -2.58819404e-01, -2.57130422e-01,\n",
       "        -2.52405470e-01, -2.45146364e-01, -2.35832034e-01, -2.24910533e-01,\n",
       "        -2.12793259e-01, -1.99851192e-01, -1.86412864e-01, -1.72763843e-01,\n",
       "        -1.59147441e-01, -1.45766407e-01, -1.32785379e-01, -1.20333866e-01,\n",
       "        -1.08509590e-01, -9.73820128e-02, -8.69959084e-02, -7.73748895e-02,\n",
       "        -6.85247801e-02, -6.04367818e-02, -5.30903844e-02, -4.64559940e-02,\n",
       "        -4.04972632e-02, -3.51731227e-02, -3.04395201e-02, -2.62508810e-02,\n",
       "        -2.25613109e-02, -1.93255607e-02, -1.64997810e-02, -1.40420894e-02,\n",
       "        -1.19129767e-02, -1.00755760e-02, -8.49581722e-03, -7.14248779e-03,\n",
       "        -5.98721903e-03, -5.00441397e-03, -4.17113174e-03, -3.46694075e-03,\n",
       "        -2.87375106e-03, -2.37563474e-03, -1.95864095e-03, -1.61061146e-03,\n",
       "        -1.32100066e-03, -1.08070331e-03, -8.81892086e-04, -7.17866568e-04,\n",
       "        -5.82914178e-04, -4.72183640e-04, -3.81570729e-04, -3.07615996e-04,\n",
       "        -2.47413891e-04]),\n",
       " array([-6.91265945e-02,  4.09630871e-02,  1.45042705e-01,  2.27935186e-01,\n",
       "         2.77740807e-01,  2.87492244e-01,  2.56056757e-01,  1.88181085e-01,\n",
       "         9.37010056e-02, -1.39449180e-02, -1.19665553e-01, -2.08843947e-01,\n",
       "        -2.69340322e-01, -2.93100296e-01, -2.77162528e-01, -2.23950104e-01,\n",
       "        -1.40831545e-01, -3.90357992e-02,  6.79119721e-02,  1.66010777e-01,\n",
       "         2.42613229e-01,  2.88026418e-01,  2.96686447e-01,  2.67772254e-01,\n",
       "         2.05201681e-01,  1.17033367e-01,  1.43715982e-02, -9.00713135e-02,\n",
       "        -1.83565177e-01, -2.54904692e-01, -2.95719912e-01, -3.01406091e-01,\n",
       "        -2.71577189e-01, -2.10008380e-01, -1.24094835e-01, -2.39092724e-02,\n",
       "         7.90166652e-02,  1.73036490e-01,  2.47700787e-01,  2.94890787e-01,\n",
       "         3.09654767e-01,  2.90667457e-01,  2.40278306e-01,  1.64161186e-01,\n",
       "         7.06206434e-02, -3.03561233e-02, -1.28189973e-01, -2.12822518e-01,\n",
       "        -2.75734229e-01, -3.10767512e-01, -3.14679830e-01, -2.87383558e-01,\n",
       "        -2.31863309e-01, -1.53794209e-01, -6.09129274e-02,  3.77854325e-02,\n",
       "         1.32938761e-01,  2.15708346e-01,  2.78584254e-01,  3.16034712e-01,\n",
       "         3.24947323e-01,  3.04832413e-01,  2.57782402e-01,  1.88203626e-01,\n",
       "         1.02356470e-01,  7.75443645e-03, -8.75179820e-02, -1.75505563e-01,\n",
       "        -2.49040191e-01, -3.02303309e-01, -3.31251581e-01, -3.33878563e-01,\n",
       "        -3.10300566e-01, -2.62670069e-01, -1.94933756e-01, -1.12463485e-01,\n",
       "        -2.15965186e-02,  7.08741138e-02,  1.58217390e-01,  2.34250878e-01,\n",
       "         2.93762072e-01,  3.32837843e-01,  3.49084179e-01,  3.41727739e-01,\n",
       "         3.11599946e-01,  2.61012658e-01,  1.93541361e-01,  1.13737009e-01,\n",
       "         2.67908090e-02, -6.18225482e-02, -1.46698377e-01, -2.22829693e-01,\n",
       "        -2.85890211e-01, -3.32458253e-01, -3.60172225e-01, -3.67813454e-01,\n",
       "        -3.55317080e-01, -3.23716077e-01, -2.75027044e-01, -2.12089132e-01,\n",
       "        -1.38369135e-01, -5.77465531e-02,  2.57077934e-02,  1.07946946e-01,\n",
       "         1.85145758e-01,  2.53872658e-01,  3.11228599e-01,  3.54949063e-01,\n",
       "         3.83467361e-01,  3.95939741e-01,  3.92234706e-01,  3.72890578e-01,\n",
       "         3.39046471e-01,  2.92352610e-01,  2.34866306e-01,  1.68939837e-01,\n",
       "         9.71061905e-02,  2.19680000e-02, -5.39057556e-02, -1.28071651e-01,\n",
       "        -1.98289626e-01, -2.62584998e-01, -3.19293889e-01, -3.67092112e-01,\n",
       "        -4.05008278e-01, -4.32422472e-01, -4.49052276e-01, -4.54928234e-01,\n",
       "        -4.50360984e-01, -4.35902348e-01, -4.12302588e-01, -3.80465877e-01,\n",
       "        -3.41405832e-01, -2.96202658e-01, -2.45963200e-01, -1.91784861e-01,\n",
       "        -1.34724061e-01, -7.57696442e-02, -1.58213702e-02,  4.43265867e-02,\n",
       "         1.03997389e-01,  1.62638949e-01,  2.19827511e-01,  2.75268012e-01,\n",
       "         3.28791841e-01,  3.80352660e-01,  4.30020940e-01,  4.77977840e-01,\n",
       "         5.24509033e-01,  5.69999043e-01,  6.14926627e-01,  6.59861690e-01,\n",
       "         7.05464203e-01,  7.52485585e-01,  8.01773000e-01,  8.54277043e-01,\n",
       "         9.11063342e-01,  9.73328656e-01,  1.04242217e+00,  1.11987281e+00,\n",
       "         1.20742359e+00,  1.30707425e+00,  1.42113368e+00,  1.55228416e+00,\n",
       "         1.70365971e+00,  1.87894150e+00,  2.08247417e+00,  2.31940751e+00,\n",
       "         2.59586936e+00,  2.91917686e+00,  3.29809500e+00,  3.74315356e+00,\n",
       "         4.26703658e+00,  4.88506158e+00,  5.61577065e+00,  6.48166074e+00,\n",
       "         7.51008770e+00,  8.73438765e+00,  1.01952704e+01,  1.19425541e+01,\n",
       "         1.40373290e+01,  1.65546609e+01,  1.95869757e+01,  2.32483033e+01,\n",
       "         2.76796094e+01,  3.30555068e+01,  3.95927151e+01,  4.75607475e+01,\n",
       "         5.72954310e+01,  6.92160432e+01,  8.38470714e+01,  1.01845888e+02,\n",
       "         1.24038010e+02,  1.51462109e+02,  1.85427548e+02,  2.27588082e+02,\n",
       "         2.80036399e+02,  3.45425631e+02,  4.27125768e+02,  5.29425358e+02,\n",
       "         6.57792044e+02]),\n",
       " array([ 1.07642975e+00,  1.09784090e+00,  9.58084333e-01,  6.79651192e-01,\n",
       "         3.04696133e-01, -1.11562223e-01, -5.09101112e-01, -8.31765988e-01,\n",
       "        -1.03510594e+00, -1.09229886e+00, -9.97411819e-01, -7.65650067e-01,\n",
       "        -4.30682718e-01, -3.95323071e-02,  3.54173956e-01,  6.97608747e-01,\n",
       "         9.45781375e-01,  1.06728218e+00,  1.04802757e+00,  8.92597934e-01,\n",
       "         6.23097249e-01,  2.75789694e-01, -1.03956307e-01, -4.67695746e-01,\n",
       "        -7.70098364e-01, -9.74516536e-01, -1.05726177e+00, -1.01011786e+00,\n",
       "        -8.40861900e-01, -5.71821211e-01, -2.36732198e-01,  1.23641756e-01,\n",
       "         4.66552109e-01,  7.52338663e-01,  9.48937608e-01,  1.03532640e+00,\n",
       "         1.00355934e+00,  8.59229664e-01,  6.20383655e-01,  3.15086092e-01,\n",
       "        -2.20229953e-02, -3.53747738e-01, -6.44461031e-01, -8.63879734e-01,\n",
       "        -9.90101080e-01, -1.01161408e+00, -9.28126826e-01, -7.50185870e-01,\n",
       "        -4.97692462e-01, -1.97528779e-01,  1.19414113e-01,  4.21472089e-01,\n",
       "         6.79367742e-01,  8.68983877e-01,  9.73499180e-01,  9.84714070e-01,\n",
       "         9.03485371e-01,  7.39280283e-01,  5.08944016e-01,  2.34843787e-01,\n",
       "        -5.74005138e-02, -3.41364754e-01, -5.92213709e-01, -7.88826225e-01,\n",
       "        -9.15479180e-01, -9.62969165e-01, -9.29109584e-01, -8.18600441e-01,\n",
       "        -6.42322931e-01, -4.16156640e-01, -1.59450498e-01,  1.06702155e-01,\n",
       "         3.61229304e-01,  5.84740447e-01,  7.60955092e-01,  8.77802282e-01,\n",
       "         9.28128090e-01,  9.09984270e-01,  8.26506340e-01,  6.85420578e-01,\n",
       "         4.98244590e-01,  2.79263906e-01,  4.43767845e-02, -1.90098777e-01,\n",
       "        -4.08567339e-01, -5.97170666e-01, -7.44613866e-01, -8.42761097e-01,\n",
       "        -8.86978962e-01, -8.76225302e-01, -8.12898785e-01, -7.02479522e-01,\n",
       "        -5.53002032e-01, -3.74409034e-01, -1.77837596e-01,  2.51115831e-02,\n",
       "         2.23074964e-01,  4.05556941e-01,  5.63458980e-01,  6.89485128e-01,\n",
       "         7.78411773e-01,  8.27219033e-01,  8.35089758e-01,  8.03289259e-01,\n",
       "         7.34944444e-01,  6.34744768e-01,  5.08589322e-01,  3.63204681e-01,\n",
       "         2.05756911e-01,  4.34787179e-02, -1.16670567e-01, -2.68298363e-01,\n",
       "        -4.05815921e-01, -5.24613615e-01, -6.21172827e-01, -6.93116285e-01,\n",
       "        -7.39201625e-01, -7.59265175e-01, -7.54124553e-01, -7.25449572e-01,\n",
       "        -6.75611223e-01, -6.07518288e-01, -5.24450397e-01, -4.29895343e-01,\n",
       "        -3.27397169e-01, -2.20420155e-01, -1.12232371e-01, -5.81105931e-03,\n",
       "         9.62291859e-02,  1.91685632e-01,  2.78795167e-01,  3.56242513e-01,\n",
       "         4.23151374e-01,  4.79061338e-01,  5.23893541e-01,  5.57908103e-01,\n",
       "         5.81656244e-01,  5.95929749e-01,  6.01710157e-01,  6.00119696e-01,\n",
       "         5.92375626e-01,  5.79749261e-01,  5.63530595e-01,  5.44999120e-01,\n",
       "         5.25401152e-01,  5.05933714e-01,  4.87734864e-01,  4.71880216e-01,\n",
       "         4.59385295e-01,  4.51213362e-01,  4.48288357e-01,  4.51512631e-01,\n",
       "         4.61789284e-01,  4.80049029e-01,  5.07281676e-01,  5.44572564e-01,\n",
       "         5.93144479e-01,  6.54405919e-01,  7.30006902e-01,  8.21903890e-01,\n",
       "         9.32435933e-01,  1.06441465e+00,  1.22123140e+00,  1.40698585e+00,\n",
       "         1.62664116e+00,  1.88621225e+00,  2.19299544e+00,  2.55584936e+00,\n",
       "         2.98554005e+00,  3.49516586e+00,  4.10068205e+00,  4.82154993e+00,\n",
       "         5.68154177e+00,  6.70974081e+00,  7.94178588e+00,  9.42142332e+00,\n",
       "         1.12024455e+01,  1.33511162e+01,  1.59492107e+01,  1.90978329e+01,\n",
       "         2.29222150e+01,  2.75777652e+01,  3.32576990e+01,  4.02026851e+01,\n",
       "         4.87130601e+01,  5.91643196e+01,  7.20268003e+01,  8.78907273e+01,\n",
       "         1.07498142e+02,  1.31783674e+02,  1.61926684e+02,  1.99418067e+02,\n",
       "         2.46145992e+02,  3.04506089e+02,  3.77543344e+02,  4.69135077e+02,\n",
       "         5.84227322e+02,  7.29140669e+02,  9.11966644e+02,  1.14308227e+03,\n",
       "         1.43581908e+03]))"
      ]
     },
     "execution_count": 26,
     "metadata": {},
     "output_type": "execute_result"
    }
   ],
   "source": [
    "special.airy(x)"
   ]
  },
  {
   "cell_type": "code",
   "execution_count": 27,
   "metadata": {},
   "outputs": [],
   "source": [
    "ai,aip,bi,bip = special.airy(x)"
   ]
  },
  {
   "cell_type": "code",
   "execution_count": 28,
   "metadata": {},
   "outputs": [],
   "source": [
    "import matplotlib.pyplot as plt"
   ]
  },
  {
   "cell_type": "code",
   "execution_count": 29,
   "metadata": {},
   "outputs": [
    {
     "data": {
      "image/png": "[encoded data removed]",
      "text/plain": [
       "<Figure size 432x288 with 1 Axes>"
      ]
     },
     "metadata": {
      "needs_background": "light"
     },
     "output_type": "display_data"
    }
   ],
   "source": [
    "plt.plot(x,ai,'r',label ='Ai(x)')\n",
    "plt.plot(x,bi,'b--',label ='Bi(x)')\n",
    "plt.ylim(-0.5,1)\n",
    "plt.grid()\n",
    "plt.legend()\n",
    "plt.show()"
   ]
  },
  {
   "cell_type": "markdown",
   "metadata": {},
   "source": [
    "Exponentially scaled Airy Functions"
   ]
  },
  {
   "cell_type": "code",
   "execution_count": 30,
   "metadata": {},
   "outputs": [],
   "source": [
    "from scipy.special import airye"
   ]
  },
  {
   "cell_type": "code",
   "execution_count": 31,
   "metadata": {},
   "outputs": [],
   "source": [
    "z = np.linspace(0,50,500)"
   ]
  },
  {
   "cell_type": "code",
   "execution_count": 32,
   "metadata": {},
   "outputs": [],
   "source": [
    "eAi, eAip, eBi, eBip = airye(z)"
   ]
  },
  {
   "cell_type": "code",
   "execution_count": 33,
   "metadata": {},
   "outputs": [
    {
     "data": {
      "image/png": "[encoded data removed]",
      "text/plain": [
       "<Figure size 432x288 with 2 Axes>"
      ]
     },
     "metadata": {
      "needs_background": "light"
     },
     "output_type": "display_data"
    }
   ],
   "source": [
    "f, ax = plt.subplots(2,1)\n",
    "for ind, data in enumerate([[eAi, eAip,[\"eAi\",\"eAip\"]],\n",
    "                            [eBi, eBip, [\"eBi\",\"eBip\"]]]):\n",
    "    ax[ind].plot(z,data[0],\"-r\",z,data[1],\"-b\")\n",
    "    ax[ind].legend(data[2])\n",
    "    ax[ind].grid()\n",
    "plt.show()"
   ]
  }
 ],
 "metadata": {
  "interpreter": {
   "hash": "68a5d257113cdaff70e53060da0295a94dffa421251a4ac30f1c53f6f4735a44"
  },
  "kernelspec": {
   "display_name": "Python 3.9.7 64-bit",
   "name": "python3"
  },
  "language_info": {
   "codemirror_mode": {
    "name": "ipython",
    "version": 3
   },
   "file_extension": ".py",
   "mimetype": "text/x-python",
   "name": "python",
   "nbconvert_exporter": "python",
   "pygments_lexer": "ipython3",
   "version": "3.9.7"
  },
  "orig_nbformat": 4
 },
 "nbformat": 4,
 "nbformat_minor": 2
}
